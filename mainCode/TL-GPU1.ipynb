{
 "cells": [
  {
   "cell_type": "markdown",
   "metadata": {},
   "source": [
    "# Which GPU to use"
   ]
  },
  {
   "cell_type": "code",
   "execution_count": 1,
   "metadata": {},
   "outputs": [],
   "source": [
    "multiGPU = False\n",
    "whichGPU = 1\n",
    " \n",
    "# Select which GPU to use\n",
    "if(multiGPU):\n",
    "    from keras.utils.training_utils import multi_gpu_model\n",
    "else:\n",
    "    import os\n",
    "    os.environ[\"CUDA_DEVICE_ORDER\"]=\"PCI_BUS_ID\"\n",
    "    # The GPU id to use, usually either \"0\" or \"1\"\n",
    "    os.environ[\"CUDA_VISIBLE_DEVICES\"] = str(whichGPU)\n",
    "    \n",
    "# # Do other imports now..."
   ]
  },
  {
   "cell_type": "markdown",
   "metadata": {},
   "source": [
    "# Load all the functions"
   ]
  },
  {
   "cell_type": "code",
   "execution_count": 2,
   "metadata": {},
   "outputs": [
    {
     "name": "stderr",
     "output_type": "stream",
     "text": [
      "Using TensorFlow backend.\n"
     ]
    }
   ],
   "source": [
    "%run -i 'arena.py'"
   ]
  },
  {
   "cell_type": "markdown",
   "metadata": {},
   "source": [
    "# General Parameters"
   ]
  },
  {
   "cell_type": "code",
   "execution_count": 3,
   "metadata": {},
   "outputs": [],
   "source": [
    "import math\n",
    "\n",
    "# What data to use\n",
    "tableBase = '4PpKk'\n",
    "convertStates = False\n",
    "\n",
    "# Interactive (just in general if one is asked for confirmations, set to False if on autopilot over night f.x.)\n",
    "askForConfirmation = False\n",
    "\n",
    "# NN parameters\n",
    "filters = [16,32,32,64,128,128,128]\n",
    "filterShape = [2,2,2,2,2,2,2]\n",
    "batch_size = 256\n",
    "optimizer = 'Adadelta'\n",
    "useBatchNorm = False\n",
    "num_classes = 3\n",
    "input_shape = (4,8,8)\n",
    "\n",
    "### DON'T MODIFY BELOW ###\n",
    "# Generate dataset variables\n",
    "fileName = tableBase + '.hdf5'\n",
    "dataSetName = tableBase + '_onlyLegal'\n",
    "if not convertStates: \n",
    "    dataSetName = tableBase + '_onlyLegal_fullStates'\n",
    "dataSetWdlName = tableBase + '_Wdl_onlyLegal_3Values'\n",
    "\n",
    "# Number of Pieces\n",
    "nPi =  int(dataSetName[0])\n",
    "nPa = nPi - 2\n",
    "nWPa = math.ceil(nPa/2)"
   ]
  },
  {
   "cell_type": "markdown",
   "metadata": {},
   "source": [
    "# Experiment 1\n",
    "Bengio methood 3n4 with freeze"
   ]
  },
  {
   "cell_type": "markdown",
   "metadata": {},
   "source": [
    "### Exp 1 Paramters"
   ]
  },
  {
   "cell_type": "code",
   "execution_count": 4,
   "metadata": {},
   "outputs": [],
   "source": [
    "%run -i 'arena.py'\n",
    "\n",
    "# Parameters\n",
    "sourceNet = '103' # trained on 3pc from scratch\n",
    "# sourceNet = '107' # trained on 4pc from scratch\n",
    "freeze = True\n",
    "resSaveFile = '3n4freeze'\n",
    "epochs = 10\n",
    "averageOver = 10\n",
    "expDescrBaseName = \"Bengio 3n4 - freeze = {} - average over {} runs\".format(str(freeze), averageOver)\n",
    "\n",
    "saveEveryRun = True # save stuff in results dir\n",
    "saveWeightsCheckpoints = False # save chkp in results dit\n",
    "saveTensorboardLogs = True # save logs in ./logs dir\n",
    "resID = '---NORESID---' # used when not saving data, but fitModel() still needs a resID\n",
    "\n",
    "fractionOfDataToUse = 1\n",
    "plotDuringTraining = False\n",
    "loadWeights = False \n",
    "askForConfirmation = False\n",
    "saveDir = 'bengioResults'\n",
    "\n",
    "resSaveFile = resSaveFile + '-{}runAverage'.format(averageOver)\n",
    "resSaveFileFullPath = saveDir + '/' + str(resSaveFile) + '.pkl' "
   ]
  },
  {
   "cell_type": "markdown",
   "metadata": {},
   "source": [
    "### Create model and load data"
   ]
  },
  {
   "cell_type": "code",
   "execution_count": 5,
   "metadata": {
    "scrolled": false
   },
   "outputs": [
    {
     "name": "stdout",
     "output_type": "stream",
     "text": [
      "Save file exists...\n",
      "\n",
      "X_train shape: (4982178, 4, 8, 8)\n",
      "y_train shape: (4982178, 1)\n",
      "X_test shape: (2453910, 4, 8, 8)\n",
      "y_test shape: (2453910, 1)\n",
      "4982178 train samples\n",
      "2453910 test samples\n",
      "Done loading dataset\n",
      "_________________________________________________________________\n",
      "Layer (type)                 Output Shape              Param #   \n",
      "=================================================================\n",
      "conv2d_1 (Conv2D)            (None, 16, 7, 7)          272       \n",
      "_________________________________________________________________\n",
      "conv2d_2 (Conv2D)            (None, 15, 6, 32)         928       \n",
      "_________________________________________________________________\n",
      "conv2d_3 (Conv2D)            (None, 14, 5, 32)         4128      \n",
      "_________________________________________________________________\n",
      "conv2d_4 (Conv2D)            (None, 13, 4, 64)         8256      \n",
      "_________________________________________________________________\n",
      "conv2d_5 (Conv2D)            (None, 12, 3, 128)        32896     \n",
      "_________________________________________________________________\n",
      "conv2d_6 (Conv2D)            (None, 11, 2, 128)        65664     \n",
      "_________________________________________________________________\n",
      "conv2d_7 (Conv2D)            (None, 10, 1, 128)        65664     \n",
      "_________________________________________________________________\n",
      "flatten_1 (Flatten)          (None, 1280)              0         \n",
      "_________________________________________________________________\n",
      "dense_1 (Dense)              (None, 3)                 3843      \n",
      "=================================================================\n",
      "Total params: 181,651\n",
      "Trainable params: 181,651\n",
      "Non-trainable params: 0\n",
      "_________________________________________________________________\n",
      "Starting with random weights\n",
      "Done creating model\n",
      "\n",
      "Starting/restarting TL at 9 transfered layers\n"
     ]
    }
   ],
   "source": [
    "# prepare save file\n",
    "if not os.path.exists(resSaveFileFullPath):\n",
    "    print(\"Save file doesn't exists, creating...\\n\")\n",
    "    save_obj(saveDir, resSaveFile, [])\n",
    "else:\n",
    "    print(\"Save file exists...\\n\")\n",
    "\n",
    "\n",
    "# load data\n",
    "X_train, X_test, y_train, y_test = loadData()\n",
    "\n",
    "# create model\n",
    "model, nnStr = createModel()\n",
    "layersCount = len(model.layers)\n",
    "\n",
    "# load old results\n",
    "results = load_obj(saveDir, resSaveFile)\n",
    "\n",
    "# initialize variables wrt old results\n",
    "startTrainingAtLayer = len(results)\n",
    "print(\"\\nStarting/restarting TL at {} transfered layers\".format(startTrainingAtLayer))"
   ]
  },
  {
   "cell_type": "markdown",
   "metadata": {},
   "source": [
    "### Train"
   ]
  },
  {
   "cell_type": "code",
   "execution_count": 6,
   "metadata": {
    "scrolled": false
   },
   "outputs": [
    {
     "name": "stdout",
     "output_type": "stream",
     "text": [
      "\n",
      " Final Results: [0.9659286607903355, 0.9716406877187543, 0.9707651869872542, 0.9715524611741639, 0.8524379052206138, 0.7808891524139756, 0.7279376586752997, 0.7232328814014212, 0.7231817792827615]\n"
     ]
    }
   ],
   "source": [
    "%run -i 'arena.py'\n",
    "\n",
    "for copyFirstNLayers in range(startTrainingAtLayer, layersCount):\n",
    "    print('\\n\\n')\n",
    "    print('==========================================================================================')\n",
    "    print('=                                                                                        =')\n",
    "    print('=                    Currently transfering first {} layers, out of {}                      ='.format(copyFirstNLayers, layersCount - 1))\n",
    "    print('=                                                                                        =')\n",
    "    print('==========================================================================================')\n",
    "    print()\n",
    "    \n",
    "    # check if we are at the flatten layer, and skip it if so\n",
    "    if copyFirstNLayers == layersCount - 1:\n",
    "        copyFirstNLayers += 1\n",
    "        \n",
    "    # train and average results\n",
    "    accumulatedScore = 0\n",
    "    for a in range(averageOver):\n",
    "        \n",
    "        # set experement description test\n",
    "        expDescr = expDescrBaseName + '__copyLayers_{}__average_{}_of_{}'.format(copyFirstNLayers, a+1, averageOver)        \n",
    "        # save current averagePosition to tmp file\n",
    "        with open(saveDir + '/' + str(resSaveFile) + '_currentPosition.txt','w') as file:\n",
    "            if copyFirstNLayers == layersCount:\n",
    "                location = copyFirstNLayers - 1\n",
    "            else:\n",
    "                location = copyFirstNLayers \n",
    "            file.write('Layers Transfered: {} out of {} \\nInner avg loop position: {} out of {}'.format(location, layersCount-1, a+1, averageOver))         \n",
    "            \n",
    "        # load Model layers\n",
    "        model = loadNFirstLayers(model, sourceNet, copyFirstNLayers , freeze)\n",
    "\n",
    "        # Prepare save dir\n",
    "        if saveEveryRun:\n",
    "            resID = genNextResultsDir(model)\n",
    "\n",
    "        # train\n",
    "        fitHistory, logDir = trainModel(resID, model, saveWeightsCheckpoints, saveTensorboardLogs)\n",
    "\n",
    "        # score and save results\n",
    "        score = calcScore(model)\n",
    "        if saveEveryRun:\n",
    "            saveTrainResults(resID, model, logDir, score, copyFirstNLayers)\n",
    "\n",
    "        # update Return\n",
    "        accumulatedScore += score[1]\n",
    "        \n",
    "    # append averaged results for one set of layers\n",
    "    results.append(accumulatedScore/averageOver)\n",
    "\n",
    "    # save old results to checkpoints dir\n",
    "    dateTime = time.strftime('%Y-%m-%d-%H:%M:%S', time.localtime())\n",
    "    src = saveDir + '/' + str(resSaveFile) + '.txt'\n",
    "    dest = saveDir + '/checkpoints/' + str(resSaveFile) + dateTime + '.txt'\n",
    "    if os.path.exists(src):\n",
    "        shutil.move(src, dest)\n",
    "\n",
    "    # save results \n",
    "    save_obj(saveDir, resSaveFile, results)\n",
    "    with open(saveDir + '/' + str(resSaveFile) + '.txt','w') as file:\n",
    "        file.write(str(results))\n",
    "\n",
    "    # to load:\n",
    "    # results = load_obj('temp','3n4.txt')\n",
    "print('\\n Final Results: {}'.format(results))"
   ]
  },
  {
   "cell_type": "markdown",
   "metadata": {},
   "source": [
    "# Experiment 2\n",
    "Bengio methood 4n4 with freeze"
   ]
  },
  {
   "cell_type": "markdown",
   "metadata": {},
   "source": [
    "### Exp 2 Paramters"
   ]
  },
  {
   "cell_type": "code",
   "execution_count": 7,
   "metadata": {},
   "outputs": [],
   "source": [
    "%run -i 'arena.py'\n",
    "\n",
    "# Parameters\n",
    "# sourceNet = '103' # trained on 3pc from scratch\n",
    "sourceNet = '107' # trained on 4pc from scratch\n",
    "freeze = True\n",
    "resSaveFile = '4n4freeze'\n",
    "epochs = 10\n",
    "averageOver = 10\n",
    "expDescrBaseName = \"Bengio 4n4 - freeze = {} - average over {} runs\".format(str(freeze), averageOver)\n",
    "\n",
    "saveEveryRun = True # save stuff in results dir\n",
    "saveWeightsCheckpoints = False # save chkp in results dit\n",
    "saveTensorboardLogs = True # save logs in ./logs dir\n",
    "resID = '---NORESID---' # used when not saving data, but fitModel() still needs a resID\n",
    "\n",
    "fractionOfDataToUse = 1\n",
    "plotDuringTraining = False\n",
    "loadWeights = False \n",
    "askForConfirmation = False\n",
    "saveDir = 'bengioResults'\n",
    "\n",
    "resSaveFile = resSaveFile + '-{}runAverage'.format(averageOver)\n",
    "resSaveFileFullPath = saveDir + '/' + str(resSaveFile) + '.pkl' "
   ]
  },
  {
   "cell_type": "markdown",
   "metadata": {},
   "source": [
    "### Create model and load data"
   ]
  },
  {
   "cell_type": "code",
   "execution_count": 8,
   "metadata": {
    "scrolled": false
   },
   "outputs": [
    {
     "name": "stdout",
     "output_type": "stream",
     "text": [
      "Save file exists...\n",
      "\n",
      "X_train shape: (4982178, 4, 8, 8)\n",
      "y_train shape: (4982178, 1)\n",
      "X_test shape: (2453910, 4, 8, 8)\n",
      "y_test shape: (2453910, 1)\n",
      "4982178 train samples\n",
      "2453910 test samples\n",
      "Done loading dataset\n",
      "_________________________________________________________________\n",
      "Layer (type)                 Output Shape              Param #   \n",
      "=================================================================\n",
      "conv2d_8 (Conv2D)            (None, 16, 7, 7)          272       \n",
      "_________________________________________________________________\n",
      "conv2d_9 (Conv2D)            (None, 15, 6, 32)         928       \n",
      "_________________________________________________________________\n",
      "conv2d_10 (Conv2D)           (None, 14, 5, 32)         4128      \n",
      "_________________________________________________________________\n",
      "conv2d_11 (Conv2D)           (None, 13, 4, 64)         8256      \n",
      "_________________________________________________________________\n",
      "conv2d_12 (Conv2D)           (None, 12, 3, 128)        32896     \n",
      "_________________________________________________________________\n",
      "conv2d_13 (Conv2D)           (None, 11, 2, 128)        65664     \n",
      "_________________________________________________________________\n",
      "conv2d_14 (Conv2D)           (None, 10, 1, 128)        65664     \n",
      "_________________________________________________________________\n",
      "flatten_2 (Flatten)          (None, 1280)              0         \n",
      "_________________________________________________________________\n",
      "dense_2 (Dense)              (None, 3)                 3843      \n",
      "=================================================================\n",
      "Total params: 181,651\n",
      "Trainable params: 181,651\n",
      "Non-trainable params: 0\n",
      "_________________________________________________________________\n",
      "Starting with random weights\n",
      "Done creating model\n",
      "\n",
      "Starting/restarting TL at 3 transfered layers\n"
     ]
    }
   ],
   "source": [
    "# prepare save file\n",
    "if not os.path.exists(resSaveFileFullPath):\n",
    "    print(\"Save file doesn't exists, creating...\\n\")\n",
    "    save_obj(saveDir, resSaveFile, [])\n",
    "else:\n",
    "    print(\"Save file exists...\\n\")\n",
    "\n",
    "\n",
    "# load data\n",
    "X_train, X_test, y_train, y_test = loadData()\n",
    "\n",
    "# create model\n",
    "model, nnStr = createModel()\n",
    "layersCount = len(model.layers)\n",
    "\n",
    "# load old results\n",
    "results = load_obj(saveDir, resSaveFile)\n",
    "\n",
    "# initialize variables wrt old results\n",
    "startTrainingAtLayer = len(results)\n",
    "print(\"\\nStarting/restarting TL at {} transfered layers\".format(startTrainingAtLayer))"
   ]
  },
  {
   "cell_type": "markdown",
   "metadata": {},
   "source": [
    "### Train"
   ]
  },
  {
   "cell_type": "code",
   "execution_count": null,
   "metadata": {},
   "outputs": [
    {
     "name": "stdout",
     "output_type": "stream",
     "text": [
      "\n",
      "\n",
      "\n",
      "==========================================================================================\n",
      "=                                                                                        =\n",
      "=                    Currently transfering first 3 layers, out of 8                      =\n",
      "=                                                                                        =\n",
      "==========================================================================================\n",
      "\n",
      "- 1: Freezing layer <keras.layers.convolutional.Conv2D object at 0x7f2121cadd30>\n",
      "- 2: Freezing layer <keras.layers.convolutional.Conv2D object at 0x7f2121d0a6a0>\n",
      "- 3: Freezing layer <keras.layers.convolutional.Conv2D object at 0x7f2121e90f98>\n",
      "- 4: Resetting layer <keras.layers.convolutional.Conv2D object at 0x7f2121cde6d8>\n",
      "- 5: Resetting layer <keras.layers.convolutional.Conv2D object at 0x7f211f913390>\n",
      "- 6: Resetting layer <keras.layers.convolutional.Conv2D object at 0x7f2125fb7a90>\n",
      "- 7: Resetting layer <keras.layers.convolutional.Conv2D object at 0x7f2121c6e4a8>\n",
      "- 8: Skipping layer <keras.layers.core.Flatten object at 0x7f2121c88470>\n",
      "- 9: Resetting layer <keras.layers.core.Dense object at 0x7f2121c88908>\n",
      "Save dir: Results/567/\n",
      "Creating save dir\n",
      "Done generating results dir Results/567/\n",
      "Train on 4982178 samples, validate on 2453910 samples\n",
      "Epoch 1/10\n",
      "4982178/4982178 [==============================] - 130s 26us/step - loss: 0.4618 - acc: 0.7974 - val_loss: 0.3287 - val_acc: 0.8604\n",
      "Epoch 2/10\n",
      "4982178/4982178 [==============================] - 129s 26us/step - loss: 0.2943 - acc: 0.8760 - val_loss: 0.2766 - val_acc: 0.8845\n",
      "Epoch 3/10\n",
      "4778752/4982178 [===========================>..] - ETA: 4s - loss: 0.2544 - acc: 0.8939"
     ]
    },
    {
     "name": "stderr",
     "output_type": "stream",
     "text": [
      "IOPub message rate exceeded.\n",
      "The notebook server will temporarily stop sending output\n",
      "to the client in order to avoid crashing it.\n",
      "To change this limit, set the config variable\n",
      "`--NotebookApp.iopub_msg_rate_limit`.\n",
      "\n",
      "Current values:\n",
      "NotebookApp.iopub_msg_rate_limit=1000.0 (msgs/sec)\n",
      "NotebookApp.rate_limit_window=3.0 (secs)\n",
      "\n"
     ]
    },
    {
     "name": "stdout",
     "output_type": "stream",
     "text": [
      "4982178/4982178 [==============================] - 131s 26us/step - loss: 0.1951 - acc: 0.9200 - val_loss: 0.2088 - val_acc: 0.9139\n",
      "Epoch 9/10\n",
      "3180288/4982178 [==================>...........] - ETA: 41s - loss: 0.1894 - acc: 0.9225"
     ]
    },
    {
     "name": "stderr",
     "output_type": "stream",
     "text": [
      "IOPub message rate exceeded.\n",
      "The notebook server will temporarily stop sending output\n",
      "to the client in order to avoid crashing it.\n",
      "To change this limit, set the config variable\n",
      "`--NotebookApp.iopub_msg_rate_limit`.\n",
      "\n",
      "Current values:\n",
      "NotebookApp.iopub_msg_rate_limit=1000.0 (msgs/sec)\n",
      "NotebookApp.rate_limit_window=3.0 (secs)\n",
      "\n"
     ]
    },
    {
     "name": "stdout",
     "output_type": "stream",
     "text": [
      "4982178/4982178 [==============================] - 132s 26us/step - loss: 0.3394 - acc: 0.8554 - val_loss: 0.3158 - val_acc: 0.8661\n",
      "Epoch 3/10\n",
      "4982178/4982178 [==============================] - 131s 26us/step - loss: 0.2947 - acc: 0.8760 - val_loss: 0.2881 - val_acc: 0.8793\n",
      "Epoch 4/10\n",
      "1180416/4982178 [======>.......................] - ETA: 1:27 - loss: 0.2755 - acc: 0.8849"
     ]
    },
    {
     "name": "stderr",
     "output_type": "stream",
     "text": [
      "IOPub message rate exceeded.\n",
      "The notebook server will temporarily stop sending output\n",
      "to the client in order to avoid crashing it.\n",
      "To change this limit, set the config variable\n",
      "`--NotebookApp.iopub_msg_rate_limit`.\n",
      "\n",
      "Current values:\n",
      "NotebookApp.iopub_msg_rate_limit=1000.0 (msgs/sec)\n",
      "NotebookApp.rate_limit_window=3.0 (secs)\n",
      "\n"
     ]
    },
    {
     "name": "stdout",
     "output_type": "stream",
     "text": [
      "4982178/4982178 [==============================] - 131s 26us/step - loss: 0.2260 - acc: 0.9067 - val_loss: 0.2317 - val_acc: 0.9043\n",
      "Epoch 9/10\n",
      "4982178/4982178 [==============================] - 132s 27us/step - loss: 0.2192 - acc: 0.9096 - val_loss: 0.2281 - val_acc: 0.9061\n",
      "Epoch 10/10\n",
      "4982178/4982178 [==============================] - 132s 27us/step - loss: 0.2136 - acc: 0.9121 - val_loss: 0.2267 - val_acc: 0.9071\n",
      "Training done\n",
      "Calculating score\n",
      "2453910/2453910 [==============================] - 115s 47us/step\n",
      "(4982178, 4, 8, 8)\n",
      "Evaluated test loss: 0.22670621998630974\n",
      "Evaluated test accuracy: 0.9071249556829227\n",
      "Saving results to dir 568\n",
      "Saving history...\n",
      "Saving weights...\n",
      "Saving figures...\n"
     ]
    },
    {
     "data": {
      "image/png": "[encoded data removed]",
      "text/plain": [
       "<Figure size 1080x504 with 2 Axes>"
      ]
     },
     "metadata": {
      "needs_background": "light"
     },
     "output_type": "display_data"
    },
    {
     "name": "stdout",
     "output_type": "stream",
     "text": [
      "Saving summary...\n",
      "Saving tensorboard logs...\n",
      "All done saving stuff!\n",
      "- 1: Freezing layer <keras.layers.convolutional.Conv2D object at 0x7f2121cadd30>\n",
      "- 2: Freezing layer <keras.layers.convolutional.Conv2D object at 0x7f2121d0a6a0>\n",
      "- 3: Freezing layer <keras.layers.convolutional.Conv2D object at 0x7f2121e90f98>\n",
      "- 4: Resetting layer <keras.layers.convolutional.Conv2D object at 0x7f2121cde6d8>\n",
      "- 5: Resetting layer <keras.layers.convolutional.Conv2D object at 0x7f211f913390>\n",
      "- 6: Resetting layer <keras.layers.convolutional.Conv2D object at 0x7f2125fb7a90>\n",
      "- 7: Resetting layer <keras.layers.convolutional.Conv2D object at 0x7f2121c6e4a8>\n",
      "- 8: Skipping layer <keras.layers.core.Flatten object at 0x7f2121c88470>\n",
      "- 9: Resetting layer <keras.layers.core.Dense object at 0x7f2121c88908>\n",
      "Save dir: Results/570/\n",
      "Creating save dir\n",
      "Done generating results dir Results/570/\n",
      "Train on 4982178 samples, validate on 2453910 samples\n",
      "Epoch 1/10\n",
      "4982178/4982178 [==============================] - 134s 27us/step - loss: 0.5360 - acc: 0.7610 - val_loss: 0.3952 - val_acc: 0.8293\n",
      "Epoch 2/10\n",
      "4982178/4982178 [==============================] - 135s 27us/step - loss: 0.3588 - acc: 0.8465 - val_loss: 0.3397 - val_acc: 0.8557\n",
      "Epoch 3/10\n",
      "4982178/4982178 [==============================] - 135s 27us/step - loss: 0.3156 - acc: 0.8666 - val_loss: 0.3116 - val_acc: 0.8685\n",
      "Epoch 4/10\n",
      "4982178/4982178 [==============================] - 135s 27us/step - loss: 0.2938 - acc: 0.8764 - val_loss: 0.2862 - val_acc: 0.8791\n",
      "Epoch 5/10\n",
      "4982178/4982178 [==============================] - 134s 27us/step - loss: 0.2785 - acc: 0.8831 - val_loss: 0.2861 - val_acc: 0.8795\n",
      "Epoch 6/10\n",
      "4982178/4982178 [==============================] - 134s 27us/step - loss: 0.2663 - acc: 0.8886 - val_loss: 0.2698 - val_acc: 0.8875\n",
      "Epoch 7/10\n",
      "4982178/4982178 [==============================] - 134s 27us/step - loss: 0.2562 - acc: 0.8932 - val_loss: 0.2681 - val_acc: 0.8881\n",
      "Epoch 8/10\n",
      "4982178/4982178 [==============================] - 134s 27us/step - loss: 0.2479 - acc: 0.8969 - val_loss: 0.2553 - val_acc: 0.8932\n",
      "Epoch 9/10\n",
      "4982178/4982178 [==============================] - 134s 27us/step - loss: 0.2407 - acc: 0.9001 - val_loss: 0.2484 - val_acc: 0.8969\n",
      "Epoch 10/10\n",
      "4982178/4982178 [==============================] - 134s 27us/step - loss: 0.2345 - acc: 0.9029 - val_loss: 0.2427 - val_acc: 0.8992\n",
      "Training done\n",
      "Calculating score\n",
      "2453910/2453910 [==============================] - 116s 47us/step\n",
      "(4982178, 4, 8, 8)\n",
      "Evaluated test loss: 0.24274591919798613\n",
      "Evaluated test accuracy: 0.8992147226261934\n",
      "Saving results to dir 570\n",
      "Saving history...\n",
      "Saving weights...\n",
      "Saving figures...\n"
     ]
    },
    {
     "data": {
      "image/png": "[encoded data removed]",
      "text/plain": [
       "<Figure size 1080x504 with 2 Axes>"
      ]
     },
     "metadata": {
      "needs_background": "light"
     },
     "output_type": "display_data"
    },
    {
     "name": "stdout",
     "output_type": "stream",
     "text": [
      "Saving summary...\n",
      "Saving tensorboard logs...\n",
      "All done saving stuff!\n",
      "- 1: Freezing layer <keras.layers.convolutional.Conv2D object at 0x7f2121cadd30>\n",
      "- 2: Freezing layer <keras.layers.convolutional.Conv2D object at 0x7f2121d0a6a0>\n",
      "- 3: Freezing layer <keras.layers.convolutional.Conv2D object at 0x7f2121e90f98>\n",
      "- 4: Resetting layer <keras.layers.convolutional.Conv2D object at 0x7f2121cde6d8>\n",
      "- 5: Resetting layer <keras.layers.convolutional.Conv2D object at 0x7f211f913390>\n",
      "- 6: Resetting layer <keras.layers.convolutional.Conv2D object at 0x7f2125fb7a90>\n",
      "- 7: Resetting layer <keras.layers.convolutional.Conv2D object at 0x7f2121c6e4a8>\n",
      "- 8: Skipping layer <keras.layers.core.Flatten object at 0x7f2121c88470>\n",
      "- 9: Resetting layer <keras.layers.core.Dense object at 0x7f2121c88908>\n",
      "Save dir: Results/572/\n",
      "Creating save dir\n",
      "Done generating results dir Results/572/\n",
      "Train on 4982178 samples, validate on 2453910 samples\n",
      "Epoch 1/10\n",
      "4982178/4982178 [==============================] - 132s 27us/step - loss: 0.5666 - acc: 0.7460 - val_loss: 0.4407 - val_acc: 0.8080\n",
      "Epoch 2/10\n",
      "4982178/4982178 [==============================] - 133s 27us/step - loss: 0.3956 - acc: 0.8293 - val_loss: 0.3680 - val_acc: 0.8416\n",
      "Epoch 3/10\n",
      "4982178/4982178 [==============================] - 133s 27us/step - loss: 0.3518 - acc: 0.8499 - val_loss: 0.3419 - val_acc: 0.8552\n",
      "Epoch 4/10\n",
      "4982178/4982178 [==============================] - 133s 27us/step - loss: 0.3294 - acc: 0.8603 - val_loss: 0.3221 - val_acc: 0.8640\n",
      "Epoch 5/10\n",
      "4982178/4982178 [==============================] - 134s 27us/step - loss: 0.3140 - acc: 0.8674 - val_loss: 0.3212 - val_acc: 0.8638\n",
      "Epoch 6/10\n",
      "4982178/4982178 [==============================] - 133s 27us/step - loss: 0.3014 - acc: 0.8731 - val_loss: 0.3027 - val_acc: 0.8728\n",
      "Epoch 7/10\n",
      "1812736/4982178 [=========>....................] - ETA: 1:13 - loss: 0.2917 - acc: 0.8777"
     ]
    }
   ],
   "source": [
    "%run -i 'arena.py'\n",
    "\n",
    "for copyFirstNLayers in range(startTrainingAtLayer, layersCount):\n",
    "    print('\\n\\n')\n",
    "    print('==========================================================================================')\n",
    "    print('=                                                                                        =')\n",
    "    print('=                    Currently transfering first {} layers, out of {}                      ='.format(copyFirstNLayers, layersCount - 1))\n",
    "    print('=                                                                                        =')\n",
    "    print('==========================================================================================')\n",
    "    print()\n",
    "    \n",
    "    # check if we are at the flatten layer, and skip it if so\n",
    "    if copyFirstNLayers == layersCount - 1:\n",
    "        copyFirstNLayers += 1\n",
    "        \n",
    "    # train and average results\n",
    "    accumulatedScore = 0\n",
    "    for a in range(averageOver):\n",
    "        \n",
    "        # set experement description test\n",
    "        expDescr = expDescrBaseName + '__copyLayers_{}__average_{}_of_{}'.format(copyFirstNLayers, a+1, averageOver)        \n",
    "        # save current averagePosition to tmp file\n",
    "        with open(saveDir + '/' + str(resSaveFile) + '_currentPosition.txt','w') as file:\n",
    "            if copyFirstNLayers == layersCount:\n",
    "                location = copyFirstNLayers - 1\n",
    "            else:\n",
    "                location = copyFirstNLayers \n",
    "            file.write('Layers Transfered: {} out of {} \\nInner avg loop position: {} out of {}'.format(location, layersCount-1, a+1, averageOver))         \n",
    "            \n",
    "        # load Model layers\n",
    "        model = loadNFirstLayers(model, sourceNet, copyFirstNLayers , freeze)\n",
    "\n",
    "        # Prepare save dir\n",
    "        if saveEveryRun:\n",
    "            resID = genNextResultsDir(model)\n",
    "\n",
    "        # train\n",
    "        fitHistory, logDir = trainModel(resID, model, saveWeightsCheckpoints, saveTensorboardLogs)\n",
    "\n",
    "        # score and save results\n",
    "        score = calcScore(model)\n",
    "        if saveEveryRun:\n",
    "            saveTrainResults(resID, model, logDir, score, copyFirstNLayers)\n",
    "\n",
    "        # update Return\n",
    "        accumulatedScore += score[1]\n",
    "        \n",
    "    # append averaged results for one set of layers\n",
    "    results.append(accumulatedScore/averageOver)\n",
    "\n",
    "    # save old results to checkpoints dir\n",
    "    dateTime = time.strftime('%Y-%m-%d-%H:%M:%S', time.localtime())\n",
    "    src = saveDir + '/' + str(resSaveFile) + '.txt'\n",
    "    dest = saveDir + '/checkpoints/' + str(resSaveFile) + dateTime + '.txt'\n",
    "    if os.path.exists(src):\n",
    "        shutil.move(src, dest)\n",
    "\n",
    "    # save results \n",
    "    save_obj(saveDir, resSaveFile, results)\n",
    "    with open(saveDir + '/' + str(resSaveFile) + '.txt','w') as file:\n",
    "        file.write(str(results))\n",
    "\n",
    "    # to load:\n",
    "    # results = load_obj('temp','3n4.txt')\n",
    "print('\\n Final Results: {}'.format(results))"
   ]
  },
  {
   "cell_type": "code",
   "execution_count": null,
   "metadata": {},
   "outputs": [],
   "source": []
  }
 ],
 "metadata": {
  "kernelspec": {
   "display_name": "Python [conda env:endnetGpu]",
   "language": "python",
   "name": "conda-env-endnetGpu-py"
  },
  "language_info": {
   "codemirror_mode": {
    "name": "ipython",
    "version": 3
   },
   "file_extension": ".py",
   "mimetype": "text/x-python",
   "name": "python",
   "nbconvert_exporter": "python",
   "pygments_lexer": "ipython3",
   "version": "3.5.6"
  }
 },
 "nbformat": 4,
 "nbformat_minor": 2
}
