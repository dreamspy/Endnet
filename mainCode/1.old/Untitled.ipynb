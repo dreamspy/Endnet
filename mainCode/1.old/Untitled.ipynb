{
 "cells": [
  {
   "cell_type": "code",
   "execution_count": 13,
   "metadata": {},
   "outputs": [
    {
     "name": "stdout",
     "output_type": "stream",
     "text": [
      "[0, 1]\n",
      "[2, 3]\n",
      "[4]\n"
     ]
    }
   ],
   "source": [
    "# 0 1 2 3 4\n",
    "x = [0,1,2,3,4]\n",
    "l = len(x)\n",
    "ys = 2\n",
    "for i in range(0,5,2):\n",
    "    if i + ys > l:\n",
    "        ys = l - 1\n",
    "    print(x[i:i+ys])"
   ]
  }
 ],
 "metadata": {
  "kernelspec": {
   "display_name": "Python [default]",
   "language": "python",
   "name": "python3"
  },
  "language_info": {
   "codemirror_mode": {
    "name": "ipython",
    "version": 3
   },
   "file_extension": ".py",
   "mimetype": "text/x-python",
   "name": "python",
   "nbconvert_exporter": "python",
   "pygments_lexer": "ipython3",
   "version": "3.5.6"
  }
 },
 "nbformat": 4,
 "nbformat_minor": 2
}
