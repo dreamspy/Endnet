{
 "cells": [
  {
   "cell_type": "markdown",
   "metadata": {},
   "source": [
    "# Which GPU to use"
   ]
  },
  {
   "cell_type": "code",
   "execution_count": 1,
   "metadata": {},
   "outputs": [],
   "source": [
    "multiGPU = False\n",
    "whichGPU = 1\n",
    " \n",
    "# Select which GPU to use\n",
    "if(multiGPU):\n",
    "    from keras.utils.training_utils import multi_gpu_model\n",
    "else:\n",
    "    import os\n",
    "    os.environ[\"CUDA_DEVICE_ORDER\"]=\"PCI_BUS_ID\"\n",
    "    # The GPU id to use, usually either \"0\" or \"1\"\n",
    "    os.environ[\"CUDA_VISIBLE_DEVICES\"] = str(whichGPU)\n",
    "    \n",
    "# # Do other imports now..."
   ]
  },
  {
   "cell_type": "markdown",
   "metadata": {},
   "source": [
    "# Load all the functions"
   ]
  },
  {
   "cell_type": "code",
   "execution_count": 2,
   "metadata": {},
   "outputs": [
    {
     "name": "stderr",
     "output_type": "stream",
     "text": [
      "Using TensorFlow backend.\n"
     ]
    }
   ],
   "source": [
    "%run -i 'arena.py'"
   ]
  },
  {
   "cell_type": "markdown",
   "metadata": {},
   "source": [
    "# General Parameters"
   ]
  },
  {
   "cell_type": "code",
   "execution_count": 3,
   "metadata": {},
   "outputs": [],
   "source": [
    "import math\n",
    "\n",
    "# What data to use\n",
    "tableBase = '3PKk'\n",
    "convertStates = False\n",
    "\n",
    "# Interactive (just in general if one is asked for confirmations, set to False if on autopilot over night f.x.)\n",
    "askForConfirmation = False\n",
    "\n",
    "# NN parameters\n",
    "filters = [16,32,32,64,128,128,128]\n",
    "filterShape = [2,2,2,2,2,2,2]\n",
    "batch_size = 256\n",
    "optimizer = 'Adadelta'\n",
    "useBatchNorm = False\n",
    "num_classes = 3\n",
    "input_shape = (4,8,8)\n",
    "\n",
    "### DON'T MODIFY BELOW ###\n",
    "# Generate dataset variables\n",
    "fileName = tableBase + '.hdf5'\n",
    "dataSetName = tableBase + '_onlyLegal'\n",
    "if not convertStates: \n",
    "    dataSetName = tableBase + '_onlyLegal_fullStates'\n",
    "dataSetWdlName = tableBase + '_Wdl_onlyLegal_3Values'\n",
    "\n",
    "# Number of Pieces\n",
    "nPi =  int(dataSetName[0])\n",
    "nPa = nPi - 2\n",
    "nWPa = math.ceil(nPa/2)"
   ]
  },
  {
   "cell_type": "markdown",
   "metadata": {},
   "source": [
    "# Experiment 1\n",
    "Bengio methood 3n4 with freeze"
   ]
  },
  {
   "cell_type": "markdown",
   "metadata": {},
   "source": [
    "### Exp 1 Paramters"
   ]
  },
  {
   "cell_type": "code",
   "execution_count": 5,
   "metadata": {},
   "outputs": [],
   "source": [
    "%run -i 'arena.py'\n",
    "\n",
    "# Parameters\n",
    "sourceNet = '103' # trained on 3pc from scratch\n",
    "# sourceNet = '107' # trained on 4pc from scratch\n",
    "freeze = True\n",
    "resSaveFile = '3n4freeze'\n",
    "epochs = 1\n",
    "averageOver = 1\n",
    "expDescr = \"Bengio 3n4 - freeze = {} - average over {} runs\".format(str(freeze), averageOver)\n",
    "\n",
    "saveEveryRun = False # save stuff in results dir\n",
    "saveWeightsCheckpoints = False # save chkp in results dit\n",
    "saveTensorboardLogs = False # save logs in ./logs dir\n",
    "resID = '---NORESID---' # used when not saving data, but fitModel() still needs a resID\n",
    "\n",
    "fractionOfDataToUse = 0.1\n",
    "plotDuringTraining = True\n",
    "loadWeights = False \n",
    "askForConfirmation = False\n",
    "saveDir = 'bengioResults'\n",
    "\n",
    "resSaveFile = resSaveFile + '-{}runAverage'.format(averageOver)\n",
    "resSaveFileFullPath = saveDir + '/' + str(resSaveFile) + '.pkl' "
   ]
  },
  {
   "cell_type": "markdown",
   "metadata": {},
   "source": [
    "### Create model and load data"
   ]
  },
  {
   "cell_type": "code",
   "execution_count": 6,
   "metadata": {
    "scrolled": false
   },
   "outputs": [
    {
     "name": "stdout",
     "output_type": "stream",
     "text": [
      "X_train shape: (10942, 4, 8, 8)\n",
      "y_train shape: (10942, 1)\n",
      "X_test shape: (5390, 4, 8, 8)\n",
      "y_test shape: (5390, 1)\n",
      "10942 train samples\n",
      "5390 test samples\n",
      "Done loading dataset\n",
      "_________________________________________________________________\n",
      "Layer (type)                 Output Shape              Param #   \n",
      "=================================================================\n",
      "conv2d_1 (Conv2D)            (None, 16, 7, 7)          272       \n",
      "_________________________________________________________________\n",
      "conv2d_2 (Conv2D)            (None, 15, 6, 32)         928       \n",
      "_________________________________________________________________\n",
      "conv2d_3 (Conv2D)            (None, 14, 5, 32)         4128      \n",
      "_________________________________________________________________\n",
      "conv2d_4 (Conv2D)            (None, 13, 4, 64)         8256      \n",
      "_________________________________________________________________\n",
      "conv2d_5 (Conv2D)            (None, 12, 3, 128)        32896     \n",
      "_________________________________________________________________\n",
      "conv2d_6 (Conv2D)            (None, 11, 2, 128)        65664     \n",
      "_________________________________________________________________\n",
      "conv2d_7 (Conv2D)            (None, 10, 1, 128)        65664     \n",
      "_________________________________________________________________\n",
      "flatten_1 (Flatten)          (None, 1280)              0         \n",
      "_________________________________________________________________\n",
      "dense_1 (Dense)              (None, 3)                 3843      \n",
      "=================================================================\n",
      "Total params: 181,651\n",
      "Trainable params: 181,651\n",
      "Non-trainable params: 0\n",
      "_________________________________________________________________\n",
      "Starting with random weights\n",
      "Done creating model\n"
     ]
    }
   ],
   "source": [
    "# prepare save file\n",
    "# if not os.path.exists(resSaveFileFullPath):\n",
    "#     print(\"Save file doesn't exists, creating...\\n\")\n",
    "#     save_obj(saveDir, resSaveFile, [])\n",
    "# else:\n",
    "#     print(\"Save file exists...\\n\")\n",
    "\n",
    "\n",
    "# load data\n",
    "X_train, X_test, y_train, y_test = loadData()\n",
    "\n",
    "# create model\n",
    "model, nnStr = createModel()\n",
    "layersCount = len(model.layers)\n",
    "\n",
    "# load old results\n",
    "# results = load_obj(saveDir, resSaveFile)\n",
    "\n",
    "# initialize variables wrt old results\n",
    "# startTrainingAtLayer = len(results)\n",
    "startTrainingAtLayer = 0\n",
    "# print(\"\\nStarting/restarting TL at {} transfered layers\".format(startTrainingAtLayer))"
   ]
  },
  {
   "cell_type": "markdown",
   "metadata": {},
   "source": [
    "### Train"
   ]
  },
  {
   "cell_type": "code",
   "execution_count": 54,
   "metadata": {},
   "outputs": [],
   "source": [
    "def loadNFirstLayers(model, sourceNet, copyFirstNLayers, freeze):\n",
    "    # Load weights\n",
    "#     weightsPath = 'Results/' + sourceNet + '/weights.hdf5'\n",
    "#     print(\"Loading first {} layers from results {}, \".format(copyFirstNLayers, weightsPath))\n",
    "#     model.load_weights(weightsPath)\n",
    "\n",
    "    # Randomize all but first n layers\n",
    "    session = K.get_session()\n",
    "    layers = model.layers\n",
    "    \n",
    "    for i in range(len(layers)):\n",
    "        layer = layers[i]\n",
    "        \n",
    "        if hasattr(layer, 'kernel_initializer'):\n",
    "        \n",
    "            # freeze layer\n",
    "            if i < copyFirstNLayers:\n",
    "                if freeze:\n",
    "                    print(\"- {}: Freezing layer {}\".format(i+1,layer))\n",
    "                    layer.trainable = False\n",
    "                \n",
    "            # randomize layer\n",
    "            else:\n",
    "                print('- {}: Resetting layer {}'.format(i+1,layer))\n",
    "                layer.kernel.initializer.run(session=session)\n",
    "                \n",
    "        else:\n",
    "            print('- {}: Skipping layer {}'.format(i+1,layer))\n",
    "\n",
    "    model.compile(loss=keras.losses.categorical_crossentropy,\n",
    "              optimizer=keras.optimizers.Adadelta(),\n",
    "              metrics=['accuracy'])\n",
    "    return model"
   ]
  },
  {
   "cell_type": "code",
   "execution_count": 55,
   "metadata": {},
   "outputs": [
    {
     "name": "stdout",
     "output_type": "stream",
     "text": [
      "_________________________________________________________________\n",
      "Layer (type)                 Output Shape              Param #   \n",
      "=================================================================\n",
      "conv2d_57 (Conv2D)           (None, 16, 7, 7)          272       \n",
      "_________________________________________________________________\n",
      "conv2d_58 (Conv2D)           (None, 15, 6, 32)         928       \n",
      "_________________________________________________________________\n",
      "conv2d_59 (Conv2D)           (None, 14, 5, 32)         4128      \n",
      "_________________________________________________________________\n",
      "conv2d_60 (Conv2D)           (None, 13, 4, 64)         8256      \n",
      "_________________________________________________________________\n",
      "conv2d_61 (Conv2D)           (None, 12, 3, 128)        32896     \n",
      "_________________________________________________________________\n",
      "conv2d_62 (Conv2D)           (None, 11, 2, 128)        65664     \n",
      "_________________________________________________________________\n",
      "conv2d_63 (Conv2D)           (None, 10, 1, 128)        65664     \n",
      "_________________________________________________________________\n",
      "flatten_9 (Flatten)          (None, 1280)              0         \n",
      "_________________________________________________________________\n",
      "dense_9 (Dense)              (None, 3)                 3843      \n",
      "=================================================================\n",
      "Total params: 181,651\n",
      "Trainable params: 181,651\n",
      "Non-trainable params: 0\n",
      "_________________________________________________________________\n",
      "Starting with random weights\n",
      "Done creating model\n",
      "<keras.layers.convolutional.Conv2D object at 0x7f3d2c10c278> True\n",
      "<keras.layers.convolutional.Conv2D object at 0x7f3d2c0fb550> True\n",
      "<keras.layers.convolutional.Conv2D object at 0x7f3d2c086f28> True\n",
      "<keras.layers.convolutional.Conv2D object at 0x7f3d0c7d8208> True\n",
      "<keras.layers.convolutional.Conv2D object at 0x7f3d0c7eb588> True\n",
      "<keras.layers.convolutional.Conv2D object at 0x7f3d0c798208> True\n",
      "<keras.layers.convolutional.Conv2D object at 0x7f3d0c7ad588> True\n",
      "<keras.layers.core.Flatten object at 0x7f3d0c742048> True\n",
      "<keras.layers.core.Dense object at 0x7f3d0c742f28> True\n"
     ]
    }
   ],
   "source": [
    "# %run -i 'arena.py'\n",
    "model, nnStr = createModel()\n",
    "for layer in model.layers:\n",
    "    print(layer, layer.trainable)"
   ]
  },
  {
   "cell_type": "code",
   "execution_count": 56,
   "metadata": {},
   "outputs": [
    {
     "name": "stdout",
     "output_type": "stream",
     "text": [
      "- 1: Freezing layer <keras.layers.convolutional.Conv2D object at 0x7f3d2c10c278>\n",
      "- 2: Freezing layer <keras.layers.convolutional.Conv2D object at 0x7f3d2c0fb550>\n",
      "- 3: Freezing layer <keras.layers.convolutional.Conv2D object at 0x7f3d2c086f28>\n",
      "- 4: Freezing layer <keras.layers.convolutional.Conv2D object at 0x7f3d0c7d8208>\n",
      "- 5: Freezing layer <keras.layers.convolutional.Conv2D object at 0x7f3d0c7eb588>\n",
      "- 6: Freezing layer <keras.layers.convolutional.Conv2D object at 0x7f3d0c798208>\n",
      "- 7: Freezing layer <keras.layers.convolutional.Conv2D object at 0x7f3d0c7ad588>\n",
      "- 8: Skipping layer <keras.layers.core.Flatten object at 0x7f3d0c742048>\n",
      "- 9: Freezing layer <keras.layers.core.Dense object at 0x7f3d0c742f28>\n",
      "_________________________________________________________________\n",
      "Layer (type)                 Output Shape              Param #   \n",
      "=================================================================\n",
      "conv2d_57 (Conv2D)           (None, 16, 7, 7)          272       \n",
      "_________________________________________________________________\n",
      "conv2d_58 (Conv2D)           (None, 15, 6, 32)         928       \n",
      "_________________________________________________________________\n",
      "conv2d_59 (Conv2D)           (None, 14, 5, 32)         4128      \n",
      "_________________________________________________________________\n",
      "conv2d_60 (Conv2D)           (None, 13, 4, 64)         8256      \n",
      "_________________________________________________________________\n",
      "conv2d_61 (Conv2D)           (None, 12, 3, 128)        32896     \n",
      "_________________________________________________________________\n",
      "conv2d_62 (Conv2D)           (None, 11, 2, 128)        65664     \n",
      "_________________________________________________________________\n",
      "conv2d_63 (Conv2D)           (None, 10, 1, 128)        65664     \n",
      "_________________________________________________________________\n",
      "flatten_9 (Flatten)          (None, 1280)              0         \n",
      "_________________________________________________________________\n",
      "dense_9 (Dense)              (None, 3)                 3843      \n",
      "=================================================================\n",
      "Total params: 181,651\n",
      "Trainable params: 0\n",
      "Non-trainable params: 181,651\n",
      "_________________________________________________________________\n",
      "None\n",
      "<keras.layers.convolutional.Conv2D object at 0x7f3d2c10c278> False\n",
      "<keras.layers.convolutional.Conv2D object at 0x7f3d2c0fb550> False\n",
      "<keras.layers.convolutional.Conv2D object at 0x7f3d2c086f28> False\n",
      "<keras.layers.convolutional.Conv2D object at 0x7f3d0c7d8208> False\n",
      "<keras.layers.convolutional.Conv2D object at 0x7f3d0c7eb588> False\n",
      "<keras.layers.convolutional.Conv2D object at 0x7f3d0c798208> False\n",
      "<keras.layers.convolutional.Conv2D object at 0x7f3d0c7ad588> False\n",
      "<keras.layers.core.Flatten object at 0x7f3d0c742048> True\n",
      "<keras.layers.core.Dense object at 0x7f3d0c742f28> False\n"
     ]
    }
   ],
   "source": [
    "compareResultsDuringTraining = False\n",
    "plotDuringTraining = False\n",
    "saveTensorboardLogs = False\n",
    "epochs = 1\n",
    "model = loadNFirstLayers(model, sourceNet, 9 , freeze)\n",
    "print(model.summary())\n",
    "for layer in model.layers:\n",
    "    print(layer, layer.trainable)"
   ]
  },
  {
   "cell_type": "code",
   "execution_count": 46,
   "metadata": {
    "scrolled": false
   },
   "outputs": [
    {
     "name": "stdout",
     "output_type": "stream",
     "text": [
      "Calculating score\n",
      "5390/5390 [==============================] - 1s 101us/step\n",
      "(10942, 4, 8, 8)\n",
      "Evaluated test loss: 0.46403493478700714\n",
      "Evaluated test accuracy: 0.8385899814028908\n",
      "Train on 10942 samples, validate on 5390 samples\n",
      "Epoch 1/1\n",
      "10942/10942 [==============================] - 0s 26us/step - loss: 0.5042 - acc: 0.8207 - val_loss: 0.4640 - val_acc: 0.8386\n",
      "Training done\n",
      "Calculating score\n",
      "5390/5390 [==============================] - 0s 55us/step\n",
      "(10942, 4, 8, 8)\n",
      "Evaluated test loss: 0.46403493478700714\n",
      "Evaluated test accuracy: 0.8385899814028908\n"
     ]
    }
   ],
   "source": [
    "score = calcScore(model)\n",
    "fitHistory, logDir = trainModel(resID, model, saveWeightsCheckpoints, saveTensorboardLogs)\n",
    "score = calcScore(model)"
   ]
  },
  {
   "cell_type": "code",
   "execution_count": 6,
   "metadata": {
    "collapsed": true
   },
   "outputs": [
    {
     "name": "stdout",
     "output_type": "stream",
     "text": [
      "\n",
      "\n",
      "\n",
      "==========================================================================================\n",
      "=                                                                                        =\n",
      "=                    Currently transfering first 4 layers, out of 8                      =\n",
      "=                                                                                        =\n",
      "==========================================================================================\n",
      "\n",
      "Loading first 4 layers from results Results/103/weights.hdf5, \n",
      "- Resetting layer nr 5: <keras.layers.convolutional.Conv2D object at 0x7f1139a15ef0>\n",
      "- Resetting layer nr 6: <keras.layers.convolutional.Conv2D object at 0x7f11399c6198>\n",
      "- Resetting layer nr 7: <keras.layers.convolutional.Conv2D object at 0x7f11399de550>\n",
      "- Skipping layer nr 8: <keras.layers.core.Flatten object at 0x7f1139977e10>\n",
      "- Resetting layer nr 9: <keras.layers.core.Dense object at 0x7f1139977da0>\n"
     ]
    },
    {
     "name": "stderr",
     "output_type": "stream",
     "text": [
      "/home/frimann/anaconda3/envs/endnetGpu/lib/python3.5/site-packages/keras/engine/training.py:479: UserWarning: Discrepancy between trainable weights and collected trainable weights, did you set `model.trainable` without calling `model.compile` after ?\n",
      "  'Discrepancy between trainable weights and collected trainable'\n"
     ]
    },
    {
     "name": "stdout",
     "output_type": "stream",
     "text": [
      "Train on 4982178 samples, validate on 2453910 samples\n",
      "Epoch 1/10\n",
      "4982178/4982178 [==============================] - 171s 34us/step - loss: 0.2182 - acc: 0.9072 - val_loss: 0.1634 - val_acc: 0.9325\n",
      "Epoch 2/10\n",
      "4982178/4982178 [==============================] - 171s 34us/step - loss: 0.1383 - acc: 0.9426 - val_loss: 0.1284 - val_acc: 0.9478\n",
      "Epoch 3/10\n",
      "4982178/4982178 [==============================] - 171s 34us/step - loss: 0.1143 - acc: 0.9533 - val_loss: 0.1098 - val_acc: 0.9558\n",
      "Epoch 4/10\n",
      "4982178/4982178 [==============================] - 172s 34us/step - loss: 0.1002 - acc: 0.9595 - val_loss: 0.1007 - val_acc: 0.9595\n",
      "Epoch 5/10\n",
      "4982178/4982178 [==============================] - 172s 35us/step - loss: 0.0912 - acc: 0.9635 - val_loss: 0.0941 - val_acc: 0.9625\n",
      "Epoch 6/10\n",
      "4982178/4982178 [==============================] - 172s 35us/step - loss: 0.0846 - acc: 0.9663 - val_loss: 0.0860 - val_acc: 0.9659\n",
      "Epoch 7/10\n",
      "4982178/4982178 [==============================] - 172s 35us/step - loss: 0.0798 - acc: 0.9683 - val_loss: 0.0861 - val_acc: 0.9660\n",
      "Epoch 8/10\n",
      "4982178/4982178 [==============================] - 172s 35us/step - loss: 0.0762 - acc: 0.9699 - val_loss: 0.0807 - val_acc: 0.9682\n",
      "Epoch 9/10\n",
      "4982178/4982178 [==============================] - 172s 35us/step - loss: 0.0733 - acc: 0.9712 - val_loss: 0.0812 - val_acc: 0.9686\n",
      "Epoch 10/10\n",
      "4982178/4982178 [==============================] - 172s 34us/step - loss: 0.0708 - acc: 0.9723 - val_loss: 0.0796 - val_acc: 0.9690\n",
      "Training done\n",
      "Calculating score\n",
      "2453910/2453910 [==============================] - 119s 48us/step\n",
      "(4982178, 4, 8, 8)\n",
      "Evaluated test loss: 0.07964335890965757\n",
      "Evaluated test accuracy: 0.9689613718514534\n",
      "Loading first 4 layers from results Results/103/weights.hdf5, \n",
      "- Resetting layer nr 5: <keras.layers.convolutional.Conv2D object at 0x7f1139a15ef0>\n",
      "- Resetting layer nr 6: <keras.layers.convolutional.Conv2D object at 0x7f11399c6198>\n",
      "- Resetting layer nr 7: <keras.layers.convolutional.Conv2D object at 0x7f11399de550>\n",
      "- Skipping layer nr 8: <keras.layers.core.Flatten object at 0x7f1139977e10>\n",
      "- Resetting layer nr 9: <keras.layers.core.Dense object at 0x7f1139977da0>\n",
      "Train on 4982178 samples, validate on 2453910 samples\n",
      "Epoch 1/10\n",
      "4982178/4982178 [==============================] - 171s 34us/step - loss: 0.2150 - acc: 0.9086 - val_loss: 0.1553 - val_acc: 0.9354\n",
      "Epoch 2/10\n",
      "4982178/4982178 [==============================] - 172s 34us/step - loss: 0.1338 - acc: 0.9447 - val_loss: 0.1197 - val_acc: 0.9508\n",
      "Epoch 3/10\n",
      "4982178/4982178 [==============================] - 172s 35us/step - loss: 0.1088 - acc: 0.9559 - val_loss: 0.1024 - val_acc: 0.9589\n",
      "Epoch 4/10\n",
      "4982178/4982178 [==============================] - 172s 35us/step - loss: 0.0942 - acc: 0.9625 - val_loss: 0.0965 - val_acc: 0.9618\n",
      "Epoch 5/10\n",
      "4982178/4982178 [==============================] - 172s 35us/step - loss: 0.0852 - acc: 0.9662 - val_loss: 0.0881 - val_acc: 0.9657\n",
      "Epoch 6/10\n",
      "4982178/4982178 [==============================] - 172s 35us/step - loss: 0.0791 - acc: 0.9689 - val_loss: 0.0849 - val_acc: 0.9668\n",
      "Epoch 7/10\n",
      "4982178/4982178 [==============================] - 172s 35us/step - loss: 0.0744 - acc: 0.9709 - val_loss: 0.0776 - val_acc: 0.9695\n",
      "Epoch 8/10\n",
      "4982178/4982178 [==============================] - 172s 35us/step - loss: 0.0709 - acc: 0.9723 - val_loss: 0.0776 - val_acc: 0.9701\n",
      "Epoch 9/10\n",
      "4982178/4982178 [==============================] - 172s 35us/step - loss: 0.0681 - acc: 0.9735 - val_loss: 0.0751 - val_acc: 0.9711\n",
      "Epoch 10/10\n",
      "4982178/4982178 [==============================] - 172s 35us/step - loss: 0.0658 - acc: 0.9745 - val_loss: 0.0724 - val_acc: 0.9720\n",
      "Training done\n",
      "Calculating score\n",
      "2453910/2453910 [==============================] - 118s 48us/step\n",
      "(4982178, 4, 8, 8)\n",
      "Evaluated test loss: 0.07241203244544772\n",
      "Evaluated test accuracy: 0.9719997880931421\n",
      "Loading first 4 layers from results Results/103/weights.hdf5, \n",
      "- Resetting layer nr 5: <keras.layers.convolutional.Conv2D object at 0x7f1139a15ef0>\n",
      "- Resetting layer nr 6: <keras.layers.convolutional.Conv2D object at 0x7f11399c6198>\n",
      "- Resetting layer nr 7: <keras.layers.convolutional.Conv2D object at 0x7f11399de550>\n",
      "- Skipping layer nr 8: <keras.layers.core.Flatten object at 0x7f1139977e10>\n",
      "- Resetting layer nr 9: <keras.layers.core.Dense object at 0x7f1139977da0>\n",
      "Train on 4982178 samples, validate on 2453910 samples\n",
      "Epoch 1/10\n",
      "2388736/4982178 [=============>................] - ETA: 1:19 - loss: 0.2662 - acc: 0.8860"
     ]
    },
    {
     "ename": "KeyboardInterrupt",
     "evalue": "",
     "output_type": "error",
     "traceback": [
      "\u001b[0;31m---------------------------------------------------------------------------\u001b[0m",
      "\u001b[0;31mKeyboardInterrupt\u001b[0m                         Traceback (most recent call last)",
      "\u001b[0;32m~/projects/Endnet/mainCode/arena.py\u001b[0m in \u001b[0;36m<module>\u001b[0;34m()\u001b[0m\n\u001b[1;32m     26\u001b[0m \u001b[0;34m\u001b[0m\u001b[0m\n\u001b[1;32m     27\u001b[0m         \u001b[0;31m# train\u001b[0m\u001b[0;34m\u001b[0m\u001b[0;34m\u001b[0m\u001b[0m\n\u001b[0;32m---> 28\u001b[0;31m         \u001b[0mfitHistory\u001b[0m\u001b[0;34m,\u001b[0m \u001b[0mlogDir\u001b[0m \u001b[0;34m=\u001b[0m \u001b[0mtrainModel\u001b[0m\u001b[0;34m(\u001b[0m\u001b[0mresID\u001b[0m\u001b[0;34m,\u001b[0m \u001b[0mmodel\u001b[0m\u001b[0;34m,\u001b[0m \u001b[0msaveWeightsCheckpoints\u001b[0m\u001b[0;34m,\u001b[0m \u001b[0msaveTensorboardLogs\u001b[0m\u001b[0;34m)\u001b[0m\u001b[0;34m\u001b[0m\u001b[0m\n\u001b[0m\u001b[1;32m     29\u001b[0m \u001b[0;34m\u001b[0m\u001b[0m\n\u001b[1;32m     30\u001b[0m         \u001b[0;31m# score and save results\u001b[0m\u001b[0;34m\u001b[0m\u001b[0;34m\u001b[0m\u001b[0m\n",
      "\u001b[0;32m~/projects/Endnet/mainCode/arena.py\u001b[0m in \u001b[0;36mtrainModel\u001b[0;34m(resID, model, saveWeightsCheckpoints, saveTensorBoardLogs)\u001b[0m\n\u001b[1;32m    502\u001b[0m                            \u001b[0mcallbacks\u001b[0m \u001b[0;34m=\u001b[0m \u001b[0mcallbacksArr\u001b[0m\u001b[0;34m,\u001b[0m\u001b[0;34m\u001b[0m\u001b[0m\n\u001b[1;32m    503\u001b[0m \u001b[0;31m#                          .format(resID,nPi, initWeightsId, kpm, int(time() - 1500000000)))],\u001b[0m\u001b[0;34m\u001b[0m\u001b[0;34m\u001b[0m\u001b[0m\n\u001b[0;32m--> 504\u001b[0;31m                            validation_data=(X_test, y_test))\n\u001b[0m\u001b[1;32m    505\u001b[0m     \u001b[0mprint\u001b[0m\u001b[0;34m(\u001b[0m\u001b[0;34m\"Training done\"\u001b[0m\u001b[0;34m)\u001b[0m\u001b[0;34m\u001b[0m\u001b[0m\n\u001b[1;32m    506\u001b[0m     \u001b[0;32mif\u001b[0m \u001b[0msaveTensorBoardLogs\u001b[0m\u001b[0;34m:\u001b[0m\u001b[0;34m\u001b[0m\u001b[0m\n",
      "\u001b[0;32m~/anaconda3/envs/endnetGpu/lib/python3.5/site-packages/keras/engine/training.py\u001b[0m in \u001b[0;36mfit\u001b[0;34m(self, x, y, batch_size, epochs, verbose, callbacks, validation_split, validation_data, shuffle, class_weight, sample_weight, initial_epoch, steps_per_epoch, validation_steps, **kwargs)\u001b[0m\n\u001b[1;32m   1035\u001b[0m                                         \u001b[0minitial_epoch\u001b[0m\u001b[0;34m=\u001b[0m\u001b[0minitial_epoch\u001b[0m\u001b[0;34m,\u001b[0m\u001b[0;34m\u001b[0m\u001b[0m\n\u001b[1;32m   1036\u001b[0m                                         \u001b[0msteps_per_epoch\u001b[0m\u001b[0;34m=\u001b[0m\u001b[0msteps_per_epoch\u001b[0m\u001b[0;34m,\u001b[0m\u001b[0;34m\u001b[0m\u001b[0m\n\u001b[0;32m-> 1037\u001b[0;31m                                         validation_steps=validation_steps)\n\u001b[0m\u001b[1;32m   1038\u001b[0m \u001b[0;34m\u001b[0m\u001b[0m\n\u001b[1;32m   1039\u001b[0m     def evaluate(self, x=None, y=None,\n",
      "\u001b[0;32m~/anaconda3/envs/endnetGpu/lib/python3.5/site-packages/keras/engine/training_arrays.py\u001b[0m in \u001b[0;36mfit_loop\u001b[0;34m(model, f, ins, out_labels, batch_size, epochs, verbose, callbacks, val_f, val_ins, shuffle, callback_metrics, initial_epoch, steps_per_epoch, validation_steps)\u001b[0m\n\u001b[1;32m    197\u001b[0m                     \u001b[0mins_batch\u001b[0m\u001b[0;34m[\u001b[0m\u001b[0mi\u001b[0m\u001b[0;34m]\u001b[0m \u001b[0;34m=\u001b[0m \u001b[0mins_batch\u001b[0m\u001b[0;34m[\u001b[0m\u001b[0mi\u001b[0m\u001b[0;34m]\u001b[0m\u001b[0;34m.\u001b[0m\u001b[0mtoarray\u001b[0m\u001b[0;34m(\u001b[0m\u001b[0;34m)\u001b[0m\u001b[0;34m\u001b[0m\u001b[0m\n\u001b[1;32m    198\u001b[0m \u001b[0;34m\u001b[0m\u001b[0m\n\u001b[0;32m--> 199\u001b[0;31m                 \u001b[0mouts\u001b[0m \u001b[0;34m=\u001b[0m \u001b[0mf\u001b[0m\u001b[0;34m(\u001b[0m\u001b[0mins_batch\u001b[0m\u001b[0;34m)\u001b[0m\u001b[0;34m\u001b[0m\u001b[0m\n\u001b[0m\u001b[1;32m    200\u001b[0m                 \u001b[0mouts\u001b[0m \u001b[0;34m=\u001b[0m \u001b[0mto_list\u001b[0m\u001b[0;34m(\u001b[0m\u001b[0mouts\u001b[0m\u001b[0;34m)\u001b[0m\u001b[0;34m\u001b[0m\u001b[0m\n\u001b[1;32m    201\u001b[0m                 \u001b[0;32mfor\u001b[0m \u001b[0ml\u001b[0m\u001b[0;34m,\u001b[0m \u001b[0mo\u001b[0m \u001b[0;32min\u001b[0m \u001b[0mzip\u001b[0m\u001b[0;34m(\u001b[0m\u001b[0mout_labels\u001b[0m\u001b[0;34m,\u001b[0m \u001b[0mouts\u001b[0m\u001b[0;34m)\u001b[0m\u001b[0;34m:\u001b[0m\u001b[0;34m\u001b[0m\u001b[0m\n",
      "\u001b[0;32m~/anaconda3/envs/endnetGpu/lib/python3.5/site-packages/keras/backend/tensorflow_backend.py\u001b[0m in \u001b[0;36m__call__\u001b[0;34m(self, inputs)\u001b[0m\n\u001b[1;32m   2664\u001b[0m                 \u001b[0;32mreturn\u001b[0m \u001b[0mself\u001b[0m\u001b[0;34m.\u001b[0m\u001b[0m_legacy_call\u001b[0m\u001b[0;34m(\u001b[0m\u001b[0minputs\u001b[0m\u001b[0;34m)\u001b[0m\u001b[0;34m\u001b[0m\u001b[0m\n\u001b[1;32m   2665\u001b[0m \u001b[0;34m\u001b[0m\u001b[0m\n\u001b[0;32m-> 2666\u001b[0;31m             \u001b[0;32mreturn\u001b[0m \u001b[0mself\u001b[0m\u001b[0;34m.\u001b[0m\u001b[0m_call\u001b[0m\u001b[0;34m(\u001b[0m\u001b[0minputs\u001b[0m\u001b[0;34m)\u001b[0m\u001b[0;34m\u001b[0m\u001b[0m\n\u001b[0m\u001b[1;32m   2667\u001b[0m         \u001b[0;32melse\u001b[0m\u001b[0;34m:\u001b[0m\u001b[0;34m\u001b[0m\u001b[0m\n\u001b[1;32m   2668\u001b[0m             \u001b[0;32mif\u001b[0m \u001b[0mpy_any\u001b[0m\u001b[0;34m(\u001b[0m\u001b[0mis_tensor\u001b[0m\u001b[0;34m(\u001b[0m\u001b[0mx\u001b[0m\u001b[0;34m)\u001b[0m \u001b[0;32mfor\u001b[0m \u001b[0mx\u001b[0m \u001b[0;32min\u001b[0m \u001b[0minputs\u001b[0m\u001b[0;34m)\u001b[0m\u001b[0;34m:\u001b[0m\u001b[0;34m\u001b[0m\u001b[0m\n",
      "\u001b[0;32m~/anaconda3/envs/endnetGpu/lib/python3.5/site-packages/keras/backend/tensorflow_backend.py\u001b[0m in \u001b[0;36m_call\u001b[0;34m(self, inputs)\u001b[0m\n\u001b[1;32m   2634\u001b[0m                                 \u001b[0msymbol_vals\u001b[0m\u001b[0;34m,\u001b[0m\u001b[0;34m\u001b[0m\u001b[0m\n\u001b[1;32m   2635\u001b[0m                                 session)\n\u001b[0;32m-> 2636\u001b[0;31m         \u001b[0mfetched\u001b[0m \u001b[0;34m=\u001b[0m \u001b[0mself\u001b[0m\u001b[0;34m.\u001b[0m\u001b[0m_callable_fn\u001b[0m\u001b[0;34m(\u001b[0m\u001b[0;34m*\u001b[0m\u001b[0marray_vals\u001b[0m\u001b[0;34m)\u001b[0m\u001b[0;34m\u001b[0m\u001b[0m\n\u001b[0m\u001b[1;32m   2637\u001b[0m         \u001b[0;32mreturn\u001b[0m \u001b[0mfetched\u001b[0m\u001b[0;34m[\u001b[0m\u001b[0;34m:\u001b[0m\u001b[0mlen\u001b[0m\u001b[0;34m(\u001b[0m\u001b[0mself\u001b[0m\u001b[0;34m.\u001b[0m\u001b[0moutputs\u001b[0m\u001b[0;34m)\u001b[0m\u001b[0;34m]\u001b[0m\u001b[0;34m\u001b[0m\u001b[0m\n\u001b[1;32m   2638\u001b[0m \u001b[0;34m\u001b[0m\u001b[0m\n",
      "\u001b[0;32m~/anaconda3/envs/endnetGpu/lib/python3.5/site-packages/tensorflow/python/client/session.py\u001b[0m in \u001b[0;36m__call__\u001b[0;34m(self, *args, **kwargs)\u001b[0m\n\u001b[1;32m   1380\u001b[0m           ret = tf_session.TF_SessionRunCallable(\n\u001b[1;32m   1381\u001b[0m               \u001b[0mself\u001b[0m\u001b[0;34m.\u001b[0m\u001b[0m_session\u001b[0m\u001b[0;34m.\u001b[0m\u001b[0m_session\u001b[0m\u001b[0;34m,\u001b[0m \u001b[0mself\u001b[0m\u001b[0;34m.\u001b[0m\u001b[0m_handle\u001b[0m\u001b[0;34m,\u001b[0m \u001b[0margs\u001b[0m\u001b[0;34m,\u001b[0m \u001b[0mstatus\u001b[0m\u001b[0;34m,\u001b[0m\u001b[0;34m\u001b[0m\u001b[0m\n\u001b[0;32m-> 1382\u001b[0;31m               run_metadata_ptr)\n\u001b[0m\u001b[1;32m   1383\u001b[0m         \u001b[0;32mif\u001b[0m \u001b[0mrun_metadata\u001b[0m\u001b[0;34m:\u001b[0m\u001b[0;34m\u001b[0m\u001b[0m\n\u001b[1;32m   1384\u001b[0m           \u001b[0mproto_data\u001b[0m \u001b[0;34m=\u001b[0m \u001b[0mtf_session\u001b[0m\u001b[0;34m.\u001b[0m\u001b[0mTF_GetBuffer\u001b[0m\u001b[0;34m(\u001b[0m\u001b[0mrun_metadata_ptr\u001b[0m\u001b[0;34m)\u001b[0m\u001b[0;34m\u001b[0m\u001b[0m\n",
      "\u001b[0;31mKeyboardInterrupt\u001b[0m: "
     ]
    }
   ],
   "source": [
    "%run -i 'arena.py'\n",
    "\n",
    "for copyFirstNLayers in range(startTrainingAtLayer, layersCount):\n",
    "    print('\\n\\n')\n",
    "    print('==========================================================================================')\n",
    "    print('=                                                                                        =')\n",
    "    print('=                    Currently transfering first {} layers, out of {}                      ='.format(copyFirstNLayers, layersCount - 1))\n",
    "    print('=                                                                                        =')\n",
    "    print('==========================================================================================')\n",
    "    print()\n",
    "    \n",
    "    if copyFirstNLayers == layersCount - 1:\n",
    "        copyFirstNLayers += 1\n",
    "        \n",
    "    accumulatedScore = 0\n",
    "    for a in range(averageOver):\n",
    "        # save current averagePosition to tmp file\n",
    "        with open(saveDir + '/' + str(resSaveFile) + '_currentPosition.txt','w') as file:\n",
    "            file.write('Currently at transferedLayers = {} out of {} \\nInner avg loop position: {} out of {}'.format(copyFirstNLayers, layersCount-1, a+1, averageOver))                     \n",
    "        # load Model layers        \n",
    "        model = loadNFirstLayers(model, sourceNet, copyFirstNLayers , freeze)\n",
    "\n",
    "        # Prepare save dir\n",
    "        if saveEveryRun:\n",
    "            resID = genNextResultsDir(model)\n",
    "\n",
    "        # train\n",
    "        fitHistory, logDir = trainModel(resID, model, saveWeightsCheckpoints, saveTensorboardLogs)\n",
    "\n",
    "        # score and save results\n",
    "        score = calcScore(model)\n",
    "        if saveEveryRun:\n",
    "            saveTrainResults(resID, model, logDir, score, copyFirstNLayers)\n",
    "\n",
    "        # update Return\n",
    "        accumulatedScore += score[1]\n",
    "        \n",
    "    # append averaged results for one set of layers\n",
    "    results.append(accumulatedScore/averageOver)\n",
    "\n",
    "    # save old results to checkpoints dir\n",
    "    dateTime = time.strftime('%Y-%m-%d-%H:%M:%S', time.localtime())\n",
    "    src = saveDir + '/' + str(resSaveFile) + '.txt'\n",
    "    dest = saveDir + '/checkpoints/' + str(resSaveFile) + dateTime + '.txt'\n",
    "    if os.path.exists(src):\n",
    "        shutil.move(src, dest)\n",
    "\n",
    "    # save results \n",
    "    save_obj(saveDir, resSaveFile, results)\n",
    "    with open(saveDir + '/' + str(resSaveFile) + '.txt','w') as file:\n",
    "        file.write(str(results))\n",
    "\n",
    "    # to load:\n",
    "    # results = load_obj('temp','3n4.txt')\n",
    "print('\\n Final Results: {}'.format(results))"
   ]
  }
 ],
 "metadata": {
  "kernelspec": {
   "display_name": "Python [conda env:endnetGpu]",
   "language": "python",
   "name": "conda-env-endnetGpu-py"
  },
  "language_info": {
   "codemirror_mode": {
    "name": "ipython",
    "version": 3
   },
   "file_extension": ".py",
   "mimetype": "text/x-python",
   "name": "python",
   "nbconvert_exporter": "python",
   "pygments_lexer": "ipython3",
   "version": "3.5.6"
  }
 },
 "nbformat": 4,
 "nbformat_minor": 2
}
