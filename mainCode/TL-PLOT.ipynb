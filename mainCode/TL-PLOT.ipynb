{
 "cells": [
  {
   "cell_type": "markdown",
   "metadata": {},
   "source": [
    "# Plot General/Specific results"
   ]
  },
  {
   "cell_type": "markdown",
   "metadata": {},
   "source": [
    "## Functions"
   ]
  },
  {
   "cell_type": "code",
   "execution_count": 1,
   "metadata": {},
   "outputs": [
    {
     "name": "stderr",
     "output_type": "stream",
     "text": [
      "Using TensorFlow backend.\n"
     ]
    }
   ],
   "source": [
    "%run -i 'arena.py'"
   ]
  },
  {
   "cell_type": "code",
   "execution_count": 2,
   "metadata": {},
   "outputs": [],
   "source": [
    "%matplotlib inline\n",
    "import matplotlib\n",
    "from matplotlib import pyplot as plt\n",
    "\n",
    "def plotData(file, saveDir, style, label, color, fullRuns, linewidth, ax):\n",
    "    x = [i for i in range(9)]\n",
    "    if fullRuns:\n",
    "        data = load_obj(saveDir, file)\n",
    "        data = convertFullToMeanError(data)\n",
    "        accuracy = data[:,0]\n",
    "        error = data[:,1]\n",
    "        ax.errorbar(x[:len(data)], accuracy, error, fmt='none', capsize = 4, color = color)\n",
    "        ax.plot(x[:len(data)], accuracy, style, label = label, color = color, linewidth = linewidth)\n",
    "    else:    \n",
    "        data  = load_obj(saveDir,file)\n",
    "        ax.plot(x[:len(data)],data, style, label = label, color = color, linewidth = linewidth)\n",
    "\n",
    "def plotIt(stuffToPlot):\n",
    "    ######### plot results\n",
    "    for file, saveDir, style, label, color, fullRuns in stuffToPlot:\n",
    "        plotData(file, saveDir, style, label, color, fullRuns, linewidth, ax)\n",
    "        \n",
    "    ######## setup\n",
    "    yl = ax.get_ylim()\n",
    "    if ymin != None:\n",
    "        yl = (ymin,yl[1])\n",
    "    if ymax != None:\n",
    "        yl = (yl[0],ymax)\n",
    "    ax.set_ylim(yl[0], yl[1])\n",
    "    ax.set_xlabel(\"Number of transferred layers\")\n",
    "    ax.set_ylabel(\"Test Accuracy\")\n",
    "    ax.legend()\n",
    "    plt.minorticks_on()\n",
    "    ax.grid(b=True, which='major', color='0.5', linestyle='-')\n",
    "    ax.grid(b=True, which='minor', color='0.9', linestyle='-')\n",
    "\n",
    "    # set fontsize\n",
    "    matplotlib.rc('font', size=fontSize)\n",
    "    matplotlib.rc('axes', titlesize=fontSize)\n",
    "    \n",
    "   "
   ]
  },
  {
   "cell_type": "markdown",
   "metadata": {},
   "source": [
    "## Parameters"
   ]
  },
  {
   "cell_type": "code",
   "execution_count": 3,
   "metadata": {},
   "outputs": [],
   "source": [
    "############################### parameters\n",
    "saveDir = 'bengioResults'\n",
    "\n",
    "######## Misc parm\n",
    "xSize = 12\n",
    "ySize = 12\n",
    "fontSize = 20\n",
    "linewidth = 1\n",
    "\n",
    "######### colors\n",
    "### blue red colors\n",
    "c3n4p      = '#ff9999'\n",
    "c3n4       = '#ff0000'\n",
    "c4n4p      = '#9999ff'\n",
    "c4n4       = '#0000ff'\n",
    "\n",
    "c3n4pref   = '#ff9999'\n",
    "c3n4ref    = '#ff0000'\n",
    "c4n4pref   = '#9999ff'\n",
    "c4n4ref    = '#0000ff'\n",
    "\n",
    "c4scrConv  = '#ff00ff'\n",
    "c4_10Epoch = '#00ffff'\n",
    "\n",
    "### bnw colors\n",
    "# c3n4p = '#000000'\n",
    "# c3n4 = '#555555'\n",
    "# c4n4p = '#000000'\n",
    "# c4n4 = '#555555'\n",
    "# c3n4pref = '#000000'\n",
    "# c3n4ref = '#555555'\n",
    "# c4n4pref = '#000000'\n",
    "# c4n4ref = '#555555'\n",
    "\n",
    "### new colors\n",
    "# c3n4p = '#ff0000'\n",
    "# c3n4 = '#00ff00'\n",
    "# c4n4p = '#0000ff'\n",
    "# c4n4 = '#00ffff'\n",
    "# c3n4pref = '#ff5555'\n",
    "# c3n4ref = '#55ff55'\n",
    "# c4n4pref = '#5555ff'\n",
    "# c4n4ref = '#55ffff'\n",
    "\n",
    "########### scale\n",
    "ymin = 0.6 \n",
    "ymax = 1.0\n",
    "\n",
    "######### limits\n",
    "#outdated from tensorboard logs\n",
    "acc4scrConvValue = 0.9782\n",
    "acc4_10EpochValue = 0.96542\n",
    "\n",
    "######### Prepare plot\n",
    "\n",
    "# fig = plt.figure(figsize=(xSize,ySize))\n",
    "# ax = fig.add_subplot(111)"
   ]
  },
  {
   "cell_type": "markdown",
   "metadata": {},
   "source": [
    "## Run arrays"
   ]
  },
  {
   "cell_type": "code",
   "execution_count": 4,
   "metadata": {},
   "outputs": [],
   "source": [
    "######### Plot plots using plot function plot\n",
    "run001 = [\n",
    "               #3n4+\n",
    "               ['3n4+-10runAverage', 'bengioResults/1.savedResults/001', '-', '3n4+ 001', c3n4p, False],\n",
    "               #3n4\n",
    "               ['3n4-10runAverage',  'bengioResults/1.savedResults/001', '-', '3n4 001',  c3n4,  False],\n",
    "               #4n4+\n",
    "               ['4n4+-10runAverage', 'bengioResults/1.savedResults/001', '-', '4n4+ 001', c4n4p, False],\n",
    "               #4n4\n",
    "               ['4n4-10runAverage' , 'bengioResults/1.savedResults/001', '-', '4n4 001',  c4n4,  False]\n",
    "                ]\n",
    "\n",
    "\n",
    "run002 = [\n",
    "               #3n4+\n",
    "#                ['3n4+', 'bengioResults/1.savedResults/002', '-.', '3n4+ 002', c3n4p, True]\n",
    "               #3n4\n",
    "#                ['3n4',  'bengioResults/1.savedResults/002', '-.', '3n4 002',  c3n4,  False]\n",
    "               #4n4+\n",
    "#                ['4n4+allRuns', 'bengioResults/1.savedResults/002', '-.', '4n4+ 002', c4n4p, True]\n",
    "               #4n4\n",
    "               ['4n4allRuns' , 'bengioResults/1.savedResults/002', '-.', '4n4 002',  c4n4,  True]\n",
    "              ]\n",
    "\n",
    "run003 = [\n",
    "               #3n4+\n",
    "               ['3n4+', 'bengioResults/1.savedResults/003', '--', '3n4+ 003', c3n4p, False],\n",
    "               #3n4\n",
    "               ['3n4',  'bengioResults/1.savedResults/003', '--', '3n4 003',  c3n4,  False],\n",
    "               #4n4+\n",
    "               ['4n4+', 'bengioResults/1.savedResults/003', '--', '4n4+ 003', c4n4p, False],\n",
    "               #4n4\n",
    "               ['4n4' , 'bengioResults/1.savedResults/003', '--', '4n4 003',  c4n4,  False]\n",
    "              ]"
   ]
  },
  {
   "cell_type": "markdown",
   "metadata": {},
   "source": [
    "## Draw Plots"
   ]
  },
  {
   "cell_type": "code",
   "execution_count": 5,
   "metadata": {
    "scrolled": false
   },
   "outputs": [
    {
     "data": {
      "image/png": "[encoded data removed]",
      "text/plain": [
       "<Figure size 864x864 with 1 Axes>"
      ]
     },
     "metadata": {
      "needs_background": "light"
     },
     "output_type": "display_data"
    }
   ],
   "source": [
    "### prepare plot (has to be in same cell as the plot functions)\n",
    "fig = plt.figure(figsize=(xSize,ySize))\n",
    "ax = fig.add_subplot(111)\n",
    "\n",
    "### plot plots\n",
    "# ruined\n",
    "# plotIt(run001)\n",
    "# ruined\n",
    "# plotIt(run002)\n",
    "# one run average for comp with 001 and 002\n",
    "plotIt(run003)"
   ]
  },
  {
   "cell_type": "markdown",
   "metadata": {},
   "source": [
    "# Calc confidence intervals\n",
    "\n"
   ]
  },
  {
   "cell_type": "code",
   "execution_count": 117,
   "metadata": {},
   "outputs": [],
   "source": [
    "### MOVED TO ARENA.PY\n",
    "def calcStats(measurements):\n",
    "    μ = np.mean(measurements)\n",
    "    σ = np.std(measurements, ddof=1)\n",
    "    max = np.max(measurements)*100\n",
    "    min = np.min(measurements)*100\n",
    "    print('max-min', max-min)\n",
    "    print('σ',σ*100)\n",
    "    n = len(measurements)\n",
    "    ste = σ/np.sqrt(n-1)\n",
    "    error = 1.96 * ste\n",
    "    print('error',error*100)\n",
    "    print()\n",
    "    return [μ, error] \n",
    "    \n",
    "def convertFullToMeanError(allResults):\n",
    "    return np.array([calcStats(m) for m in allResults])"
   ]
  },
  {
   "cell_type": "markdown",
   "metadata": {},
   "source": [
    "# Plot tensorboard in Matplotlib example code"
   ]
  },
  {
   "cell_type": "code",
   "execution_count": null,
   "metadata": {},
   "outputs": [],
   "source": [
    "import numpy as np\n",
    "from tensorflow.python.summary.event_accumulator import EventAccumulator\n",
    "\n",
    "import matplotlib as mpl\n",
    "import matplotlib.pyplot as plt\n",
    "\n",
    "def plot_tensorflow_log(path):\n",
    "\n",
    "    # Loading too much data is slow...\n",
    "    tf_size_guidance = {\n",
    "        'compressedHistograms': 10,\n",
    "        'images': 0,\n",
    "        'scalars': 100,\n",
    "        'histograms': 1\n",
    "    }\n",
    "\n",
    "    event_acc = EventAccumulator(path, tf_size_guidance)\n",
    "    event_acc.Reload()\n",
    "\n",
    "    # Show all tags in the log file\n",
    "    #print(event_acc.Tags())\n",
    "\n",
    "    training_accuracies =   event_acc.Scalars('training-accuracy')\n",
    "    validation_accuracies = event_acc.Scalars('validation_accuracy')\n",
    "\n",
    "    steps = 10\n",
    "    x = np.arange(steps)\n",
    "    y = np.zeros([steps, 2])\n",
    "\n",
    "    for i in xrange(steps):\n",
    "        y[i, 0] = training_accuracies[i][2] # value\n",
    "        y[i, 1] = validation_accuracies[i][2]\n",
    "\n",
    "    plt.plot(x, y[:,0], label='training accuracy')\n",
    "    plt.plot(x, y[:,1], label='validation accuracy')\n",
    "\n",
    "    plt.xlabel(\"Steps\")\n",
    "    plt.ylabel(\"Accuracy\")\n",
    "    plt.title(\"Training Progress\")\n",
    "    plt.legend(loc='upper right', frameon=True)\n",
    "    plt.show()\n",
    "\n",
    "\n",
    "if __name__ == '__main__':\n",
    "    log_file = \"./logs/events.out.tfevents.1456909092.DTA16004\"\n",
    "    plot_tensorflow_log(log_file)"
   ]
  }
 ],
 "metadata": {
  "kernelspec": {
   "display_name": "Python 3",
   "language": "python",
   "name": "python3"
  },
  "language_info": {
   "codemirror_mode": {
    "name": "ipython",
    "version": 3
   },
   "file_extension": ".py",
   "mimetype": "text/x-python",
   "name": "python",
   "nbconvert_exporter": "python",
   "pygments_lexer": "ipython3",
   "version": "3.6.8"
  }
 },
 "nbformat": 4,
 "nbformat_minor": 2
}
