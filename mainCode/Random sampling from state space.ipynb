{
 "cells": [
  {
   "cell_type": "markdown",
   "metadata": {},
   "source": [
    "# take sample from 5, and gen wdls"
   ]
  },
  {
   "cell_type": "code",
   "execution_count": null,
   "metadata": {},
   "outputs": [],
   "source": [
    "sys.exit()\n",
    "import h5py\n",
    "# f.close()\n",
    "fs.close()\n",
    "fd.close()\n",
    "# ft.close()\n",
    "fs = h5py.File('AllStates_intVec.hdf5', 'r')\n",
    "# fd = h5py.File('5PPpKk.hdf5', 'w')\n",
    "fd = h5py.File('5PPpKk.hdf5', 'a')\n",
    "\n",
    "# fs.copy('5PPpKk', fd['/'])\n",
    "fdn = list(fd)\n",
    "print(fdn)\n",
    "\n",
    "x = fd[fdn[0]]\n",
    "\n",
    "    \n",
    "\n",
    "lFull = len(x)\n",
    "print(lFull)\n",
    "lPart = 500000\n",
    "# lPart = lFull//1000\n",
    "# print(lPart)\n",
    "# fd.create_dataset('5PPpKk_random500k', shape=(500000,5))\n",
    "dd = fd['5PPpKk_random500k']\n",
    "\n",
    "# import sys\n",
    "# sys.exit()"
   ]
  },
  {
   "cell_type": "code",
   "execution_count": null,
   "metadata": {},
   "outputs": [],
   "source": [
    "sys.exit()\n",
    "from random import randint\n",
    "for i in range(500):\n",
    "    r = randint(0,lFull - 1000)\n",
    "    xPart = x[r:r+1000]\n",
    "    dd[i*1000:i*1000+1000] = xPart \n",
    "    \n",
    "# f = h5py.File('5PPpKk_TlTest.hdf5', 'a')\n",
    "# fn = list(f)\n",
    "# fn\n",
    "# f.create_dataset('5PPpKk_0.01')\n"
   ]
  },
  {
   "cell_type": "markdown",
   "metadata": {},
   "source": [
    "### copy dataset"
   ]
  },
  {
   "cell_type": "code",
   "execution_count": null,
   "metadata": {},
   "outputs": [],
   "source": [
    "sys.exit()\n",
    "fd.close()\n",
    "with h5py.File('5PPpKk.hdf5', 'a') as fs:\n",
    "    fsn = list(fs)\n",
    "    print(fsn)\n",
    "    ds = fs[fsn[1]]\n",
    "    \n",
    "    with h5py.File('5PPpKk_random500k.hdf5', 'w') as fd:\n",
    "        fs.copy(fsn[1], fd['/'])\n",
    "        fdn = list(fd)\n",
    "        print(fdn)\n"
   ]
  }
 ],
 "metadata": {
  "kernelspec": {
   "display_name": "Python 3",
   "language": "python",
   "name": "python3"
  },
  "language_info": {
   "codemirror_mode": {
    "name": "ipython",
    "version": 3
   },
   "file_extension": ".py",
   "mimetype": "text/x-python",
   "name": "python",
   "nbconvert_exporter": "python",
   "pygments_lexer": "ipython3",
   "version": "3.6.7"
  }
 },
 "nbformat": 4,
 "nbformat_minor": 2
}
