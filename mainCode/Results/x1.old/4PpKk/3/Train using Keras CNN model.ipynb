{
 "cells": [
  {
   "cell_type": "markdown",
   "metadata": {},
   "source": [
    "# Parameters "
   ]
  },
  {
   "cell_type": "code",
   "execution_count": 1,
   "metadata": {},
   "outputs": [],
   "source": [
    "fileName = '4PpKk.hdf5'\n",
    "dsNameStates = '4PpKk-fullStateBool'\n",
    "dsNameWDLs = '4PpKk-Wdl'\n",
    "convertStates = False\n",
    "nPi = 4\n",
    "nPa = 2\n",
    "nWPa = 1\n",
    "input_shape = (4,8,8)\n",
    "batch_size = 4096\n",
    "epochs = 500\n",
    "dataDiv = 1\n",
    "num_classes = 5\n",
    "\n",
    "multiGPU = False\n",
    "whichGPU = 0"
   ]
  },
  {
   "cell_type": "markdown",
   "metadata": {},
   "source": [
    "# Imports"
   ]
  },
  {
   "cell_type": "code",
   "execution_count": 2,
   "metadata": {},
   "outputs": [],
   "source": [
    "# ### To select which GPU to use, import these before importing Keras or Tensorflow\n",
    "# import os\n",
    "# os.environ[\"CUDA_DEVICE_ORDER\"]=\"PCI_BUS_ID\"\n",
    "# # The GPU id to use, usually either &quot;0&quot; or &quot;1&quot;\n",
    "# os.environ[\"CUDA_VISIBLE_DEVICES\"]=\"0\"  \n",
    " \n",
    "# # Do other imports now..."
   ]
  },
  {
   "cell_type": "code",
   "execution_count": 3,
   "metadata": {},
   "outputs": [
    {
     "name": "stderr",
     "output_type": "stream",
     "text": [
      "Using TensorFlow backend.\n"
     ]
    }
   ],
   "source": [
    "\n",
    "if(multiGPU):\n",
    "    from keras.utils.training_utils import multi_gpu_model\n",
    "else:\n",
    "    import os\n",
    "    os.environ[\"CUDA_DEVICE_ORDER\"]=\"PCI_BUS_ID\"\n",
    "    # The GPU id to use, usually either \"0\" or \"1\"\n",
    "    os.environ[\"CUDA_VISIBLE_DEVICES\"] = str(whichGPU)\n",
    "\n",
    "# from __future__ import print_function\n",
    "import keras\n",
    "# from keras.datasets import mnist\n",
    "from keras.models import Sequential\n",
    "from keras.layers import Dense, Dropout, Flatten\n",
    "from keras.layers import Conv2D, MaxPooling2D\n",
    "from keras import backend as K\n",
    "# import pandas as pd\n",
    "from sklearn.model_selection import train_test_split\n",
    "import sys\n",
    "import h5py\n",
    "import numpy as np"
   ]
  },
  {
   "cell_type": "markdown",
   "metadata": {},
   "source": [
    "## Analysis\n",
    "```\n",
    "3PKk-Wdl-Buffered == 3PKk-Wdl-Seq\n",
    "\n",
    "4PpKk-Wdl == 4PpKk-Wdl-Buffered != 4PpKk-Wdl-retry\n",
    "\n",
    "5PPpKk-Wdl != 5PPpKk-Wdl-Buffered\n",
    "    from 50.000 then buffered != 10, but wdl == 10\n",
    "```\n",
    "  \n",
    "### WDL score count\n",
    "#### 3PKk-WDL-Seq\n",
    "[0, 0, 125024, 0, 124960]"
   ]
  },
  {
   "cell_type": "markdown",
   "metadata": {},
   "source": [
    "# Functions for vector to full state conversion AND MORE!"
   ]
  },
  {
   "cell_type": "code",
   "execution_count": 4,
   "metadata": {},
   "outputs": [],
   "source": [
    "def sq2hnit(sq):\n",
    "    col = sq%8\n",
    "    row = (sq - col)//8\n",
    "    return col,row\n",
    "\n",
    "# 0: pawns\n",
    "# 1: kings\n",
    "def vecSt2fullSt(vecSt, nPi, nPa, nWPa):\n",
    "    fullSt = np.zeros((4,8,8), dtype = 'bool')\n",
    "    for i in range(nPi - 2):\n",
    "        sq = vecSt[i]\n",
    "        col,row = sq2hnit(sq)\n",
    "        if i < nWPa:\n",
    "            fullSt[0][row][col] = True\n",
    "        else:\n",
    "            fullSt[1][row][col] = True\n",
    "    col,row = sq2hnit(vecSt[-2])\n",
    "    fullSt[2][row][col] = True\n",
    "    col,row = sq2hnit(vecSt[-1])\n",
    "    fullSt[3][row][col] = True\n",
    "    return fullSt \n",
    "\n",
    "def vecSt2fullSt_8x8x2(vecSt, nPi, nPa, nWPa):\n",
    "    fullSt = np.zeros((8,8,2), dtype = 'int8')\n",
    "    for i in range(nPi - 2):\n",
    "        sq = vecSt[i]\n",
    "        col,row = sq2hnit(sq)\n",
    "        if i < nWPa:\n",
    "            fullSt[row][col][0] = 1\n",
    "        else:\n",
    "            fullSt[row][col][0] = -1\n",
    "    col,row = sq2hnit(vecSt[-2])\n",
    "    fullSt[row][col][1] = 1\n",
    "    col,row = sq2hnit(vecSt[-1])\n",
    "    fullSt[row][col][1] = -1\n",
    "    return fullSt \n",
    "# nPi = 3\n",
    "# nPa = 1\n",
    "# nWPa = 1\n",
    "# vecSt2fullSt(d3[0], nPi, nPa, nWPa)\n",
    "# nPi = 5\n",
    "# nPa = 3\n",
    "# nWPa = 2\n",
    "# vecSt2fullSt(d5[0], nPi, nPa, nWPa)\n",
    "    \n",
    "\n",
    "# count nr of each score instance\n",
    "# wdlCounter placeholders: [-2, -1, 0, 1 ,2]\n",
    "\n",
    "def wdlCountingMachine(ds):\n",
    "    wdlCounter = [0,0,0,0,0]\n",
    "    l = len(ds)\n",
    "    i = 0\n",
    "    intv = l//100\n",
    "    for wdl in ds:\n",
    "        i += 1\n",
    "        if i%intv == 0:\n",
    "            sys.stdout.write(str((i*100)//l) + \" percentage\")\n",
    "            sys.stdout.write('\\r')\n",
    "            sys.stdout.flush()\n",
    "        wdlCounter[wdl[0] + 2] += 1\n",
    "    print(wdlCounter)\n",
    "    return wdlCounter\n",
    "# wdlCountingMachine(d3t)"
   ]
  },
  {
   "cell_type": "markdown",
   "metadata": {},
   "source": [
    "# Load data"
   ]
  },
  {
   "cell_type": "code",
   "execution_count": 5,
   "metadata": {},
   "outputs": [
    {
     "name": "stdout",
     "output_type": "stream",
     "text": [
      "X_train shape: (10216846, 4, 8, 8)\n",
      "y_train shape: (10216846, 1)\n",
      "X_test shape: (5032178, 4, 8, 8)\n",
      "y_test shape: (5032178, 1)\n",
      "10216846 train samples\n",
      "5032178 test samples\n"
     ]
    }
   ],
   "source": [
    "# load datasets\n",
    "f = h5py.File(fileName, 'r')\n",
    "d = f[dsNameStates]\n",
    "dt = f[dsNameWDLs]\n",
    "# d5 = f['5PPpKk']\n",
    "l = len(d)\n",
    "\n",
    "if convertStates:\n",
    "    X = np.array([vecSt2fullSt(vecSt,nPi, nPa, nWPa) for vecSt in d[:l//dataDiv]])\n",
    "else:\n",
    "    X = d[:l//dataDiv]\n",
    "\n",
    "y = dt[:l//dataDiv]\n",
    "\n",
    "X_train, X_test, y_train, y_test = train_test_split(X, y, test_size=0.33, random_state=42)\n",
    "\n",
    "del X\n",
    "del y\n",
    "\n",
    "print('X_train shape:', X_train.shape)\n",
    "print('y_train shape:', y_train.shape)\n",
    "print('X_test shape:', X_test.shape)\n",
    "print('y_test shape:', y_test.shape)\n",
    "print(X_train.shape[0], 'train samples')\n",
    "print(X_test.shape[0], 'test samples')\n",
    "\n",
    "\n",
    "# convert class vectors to binary class matrices\n",
    "y_train = keras.utils.to_categorical(y_train, num_classes)\n",
    "y_test = keras.utils.to_categorical(y_test, num_classes)"
   ]
  },
  {
   "cell_type": "code",
   "execution_count": 6,
   "metadata": {},
   "outputs": [],
   "source": [
    "# del f['4PpKk-fullState']\n",
    "# f = h5py.File(fileName,'a')\n",
    "# d = f['4PpKk']\n",
    "# X = np.array([vecSt2fullSt(vecSt,nPi, nPa, nWPa) for vecSt in d[:l//dataDiv]])\n",
    "# f.create_dataset('4PpKk-fullState', data = X)\n",
    "# for i in f:print(i)\n",
    "# f.close()\n"
   ]
  },
  {
   "cell_type": "markdown",
   "metadata": {},
   "source": [
    "# Create Keras model"
   ]
  },
  {
   "cell_type": "code",
   "execution_count": 22,
   "metadata": {},
   "outputs": [
    {
     "name": "stdout",
     "output_type": "stream",
     "text": [
      "8\n",
      "16\n",
      "32\n",
      "_________________________________________________________________\n",
      "Layer (type)                 Output Shape              Param #   \n",
      "=================================================================\n",
      "conv2d_36 (Conv2D)           (None, 8, 6, 6)           296       \n",
      "_________________________________________________________________\n",
      "conv2d_37 (Conv2D)           (None, 6, 4, 16)          880       \n",
      "_________________________________________________________________\n",
      "conv2d_38 (Conv2D)           (None, 4, 2, 32)          4640      \n",
      "_________________________________________________________________\n",
      "flatten_11 (Flatten)         (None, 256)               0         \n",
      "_________________________________________________________________\n",
      "dense_11 (Dense)             (None, 5)                 1285      \n",
      "=================================================================\n",
      "Total params: 7,101\n",
      "Trainable params: 7,101\n",
      "Non-trainable params: 0\n",
      "_________________________________________________________________\n"
     ]
    }
   ],
   "source": [
    "# import keras.backend as K\n",
    "# K.set_floatx('float16')\n",
    "# K.set_epsilon(1e-4) #default is 1e-7\n",
    "# K.set_floatx('float32')\n",
    "# K.set_epsilon(1e-7) #default is 1e-7\n",
    "\n",
    "model = Sequential()\n",
    "filterDivider = 1\n",
    "l1filters = 8//filterDivider\n",
    "l2filters = 16//filterDivider\n",
    "l3filters = 32//filterDivider\n",
    "print(l1filters)\n",
    "print(l2filters)\n",
    "print(l3filters)\n",
    "\n",
    "model.add(Conv2D(l1filters, kernel_size=(3, 3),\n",
    "                 padding='valid',\n",
    "                 activation='relu',\n",
    "                 data_format = \"channels_first\",\n",
    "#                  kernel_initializer = \n",
    "                 input_shape=input_shape))\n",
    "model.add(Conv2D(l2filters, kernel_size=(3, 3),\n",
    "                 padding='valid',\n",
    "                 activation='relu'))\n",
    "model.add(Conv2D(l3filters, kernel_size=(3, 3),\n",
    "                 padding='valid',\n",
    "                 activation='relu'))\n",
    "model.add(Flatten())\n",
    "model.add(Dense(num_classes, activation='softmax'))\n",
    "if multiGPU: \n",
    "    model = keras.utils.multi_gpu_model(model, gpus=2)\n",
    "model.summary()\n",
    "model.save_weights('tempWeights.hdf5')\n",
    "\n",
    "\n",
    "model.compile(loss=keras.losses.categorical_crossentropy,\n",
    "              optimizer=keras.optimizers.Adadelta(),\n",
    "              metrics=['accuracy'])\n",
    "\n",
    "\n",
    "# model.save_weights('tempWeights.hdf5')\n",
    "# model.load_weights('tempWeights.hdf5')"
   ]
  },
  {
   "cell_type": "markdown",
   "metadata": {},
   "source": [
    "# Train"
   ]
  },
  {
   "cell_type": "code",
   "execution_count": 23,
   "metadata": {
    "scrolled": false
   },
   "outputs": [
    {
     "name": "stdout",
     "output_type": "stream",
     "text": [
      "Train on 10216846 samples, validate on 5032178 samples\n",
      "Epoch 1/500\n",
      "10216846/10216846 [==============================] - 45s 4us/step - loss: 0.4130 - acc: 0.8205 - val_loss: 0.3095 - val_acc: 0.8629\n",
      "Epoch 2/500\n",
      "10216846/10216846 [==============================] - 44s 4us/step - loss: 0.2682 - acc: 0.8841 - val_loss: 0.2392 - val_acc: 0.8970\n",
      "Epoch 3/500\n",
      "10216846/10216846 [==============================] - 45s 4us/step - loss: 0.2258 - acc: 0.9036 - val_loss: 0.2205 - val_acc: 0.9055\n",
      "Epoch 4/500\n",
      "10216846/10216846 [==============================] - 44s 4us/step - loss: 0.2076 - acc: 0.9119 - val_loss: 0.2101 - val_acc: 0.9088\n",
      "Epoch 5/500\n",
      "10216846/10216846 [==============================] - 44s 4us/step - loss: 0.1975 - acc: 0.9165 - val_loss: 0.1899 - val_acc: 0.9197\n",
      "Epoch 6/500\n",
      "10216846/10216846 [==============================] - 44s 4us/step - loss: 0.1901 - acc: 0.9197 - val_loss: 0.1903 - val_acc: 0.9184\n",
      "Epoch 7/500\n",
      "10216846/10216846 [==============================] - 44s 4us/step - loss: 0.1836 - acc: 0.9226 - val_loss: 0.1876 - val_acc: 0.9219\n",
      "Epoch 8/500\n",
      "10216846/10216846 [==============================] - 44s 4us/step - loss: 0.1780 - acc: 0.9250 - val_loss: 0.1749 - val_acc: 0.9253\n",
      "Epoch 9/500\n",
      "10216846/10216846 [==============================] - 44s 4us/step - loss: 0.1736 - acc: 0.9269 - val_loss: 0.1732 - val_acc: 0.9267\n",
      "Epoch 10/500\n",
      "10216846/10216846 [==============================] - 44s 4us/step - loss: 0.1702 - acc: 0.9284 - val_loss: 0.1711 - val_acc: 0.9278\n",
      "Epoch 11/500\n",
      "10216846/10216846 [==============================] - 44s 4us/step - loss: 0.1673 - acc: 0.9295 - val_loss: 0.1690 - val_acc: 0.9290\n",
      "Epoch 12/500\n",
      "10216846/10216846 [==============================] - 44s 4us/step - loss: 0.1647 - acc: 0.9307 - val_loss: 0.1884 - val_acc: 0.9185\n",
      "Epoch 13/500\n",
      "10216846/10216846 [==============================] - 44s 4us/step - loss: 0.1627 - acc: 0.9316 - val_loss: 0.1643 - val_acc: 0.9317\n",
      "Epoch 14/500\n",
      "10216846/10216846 [==============================] - 44s 4us/step - loss: 0.1606 - acc: 0.9326 - val_loss: 0.1589 - val_acc: 0.9330\n",
      "Epoch 15/500\n",
      "10216846/10216846 [==============================] - 44s 4us/step - loss: 0.1589 - acc: 0.9334 - val_loss: 0.1711 - val_acc: 0.9278\n",
      "Epoch 16/500\n",
      "10216846/10216846 [==============================] - 44s 4us/step - loss: 0.1574 - acc: 0.9341 - val_loss: 0.1628 - val_acc: 0.9332\n",
      "Epoch 17/500\n",
      "10216846/10216846 [==============================] - 44s 4us/step - loss: 0.1561 - acc: 0.9347 - val_loss: 0.1576 - val_acc: 0.9329\n",
      "Epoch 18/500\n",
      "10216846/10216846 [==============================] - 44s 4us/step - loss: 0.1550 - acc: 0.9353 - val_loss: 0.1550 - val_acc: 0.9349\n",
      "Epoch 19/500\n",
      "10216846/10216846 [==============================] - 44s 4us/step - loss: 0.1542 - acc: 0.9356 - val_loss: 0.1597 - val_acc: 0.9341\n",
      "Epoch 20/500\n",
      "10216846/10216846 [==============================] - 45s 4us/step - loss: 0.1533 - acc: 0.9360 - val_loss: 0.1536 - val_acc: 0.9359\n",
      "Epoch 21/500\n",
      "10216846/10216846 [==============================] - 44s 4us/step - loss: 0.1525 - acc: 0.9364 - val_loss: 0.1533 - val_acc: 0.9353\n",
      "Epoch 22/500\n",
      "10216846/10216846 [==============================] - 44s 4us/step - loss: 0.1516 - acc: 0.9368 - val_loss: 0.1575 - val_acc: 0.9340\n",
      "Epoch 23/500\n",
      "10216846/10216846 [==============================] - 45s 4us/step - loss: 0.1509 - acc: 0.9370 - val_loss: 0.1530 - val_acc: 0.9363\n",
      "Epoch 24/500\n",
      "10216846/10216846 [==============================] - 45s 4us/step - loss: 0.1503 - acc: 0.9374 - val_loss: 0.1604 - val_acc: 0.9331\n",
      "Epoch 25/500\n",
      "10216846/10216846 [==============================] - 44s 4us/step - loss: 0.1498 - acc: 0.9375 - val_loss: 0.1529 - val_acc: 0.9354\n",
      "Epoch 26/500\n",
      "10216846/10216846 [==============================] - 44s 4us/step - loss: 0.1492 - acc: 0.9377 - val_loss: 0.1516 - val_acc: 0.9361\n",
      "Epoch 27/500\n",
      "10216846/10216846 [==============================] - 44s 4us/step - loss: 0.1485 - acc: 0.9380 - val_loss: 0.1600 - val_acc: 0.9325\n",
      "Epoch 28/500\n",
      "10216846/10216846 [==============================] - 44s 4us/step - loss: 0.1481 - acc: 0.9381 - val_loss: 0.1484 - val_acc: 0.9377\n",
      "Epoch 29/500\n",
      "10216846/10216846 [==============================] - 45s 4us/step - loss: 0.1477 - acc: 0.9383 - val_loss: 0.1512 - val_acc: 0.9374\n",
      "Epoch 30/500\n",
      "10216846/10216846 [==============================] - 45s 4us/step - loss: 0.1472 - acc: 0.9386 - val_loss: 0.1525 - val_acc: 0.9369\n",
      "Epoch 31/500\n",
      "10216846/10216846 [==============================] - 45s 4us/step - loss: 0.1467 - acc: 0.9387 - val_loss: 0.1479 - val_acc: 0.9388\n",
      "Epoch 32/500\n",
      "10216846/10216846 [==============================] - 45s 4us/step - loss: 0.1462 - acc: 0.9389 - val_loss: 0.1489 - val_acc: 0.9377\n",
      "Epoch 33/500\n",
      "10216846/10216846 [==============================] - 45s 4us/step - loss: 0.1459 - acc: 0.9390 - val_loss: 0.1502 - val_acc: 0.9361\n",
      "Epoch 34/500\n",
      "10216846/10216846 [==============================] - 45s 4us/step - loss: 0.1453 - acc: 0.9393 - val_loss: 0.1567 - val_acc: 0.9348\n",
      "Epoch 35/500\n",
      "10216846/10216846 [==============================] - 45s 4us/step - loss: 0.1448 - acc: 0.9396 - val_loss: 0.1450 - val_acc: 0.9399\n",
      "Epoch 36/500\n",
      "10216846/10216846 [==============================] - 44s 4us/step - loss: 0.1444 - acc: 0.9398 - val_loss: 0.1463 - val_acc: 0.9393\n",
      "Epoch 37/500\n",
      "10216846/10216846 [==============================] - 45s 4us/step - loss: 0.1438 - acc: 0.9400 - val_loss: 0.1424 - val_acc: 0.9403\n",
      "Epoch 38/500\n",
      "10216846/10216846 [==============================] - 45s 4us/step - loss: 0.1434 - acc: 0.9402 - val_loss: 0.1505 - val_acc: 0.9370\n",
      "Epoch 39/500\n",
      "10216846/10216846 [==============================] - 44s 4us/step - loss: 0.1428 - acc: 0.9404 - val_loss: 0.1414 - val_acc: 0.9410\n",
      "Epoch 40/500\n",
      "10216846/10216846 [==============================] - 45s 4us/step - loss: 0.1424 - acc: 0.9405 - val_loss: 0.1486 - val_acc: 0.9378\n",
      "Epoch 41/500\n",
      "10216846/10216846 [==============================] - 44s 4us/step - loss: 0.1419 - acc: 0.9407 - val_loss: 0.1444 - val_acc: 0.9393\n",
      "Epoch 42/500\n",
      "10216846/10216846 [==============================] - 44s 4us/step - loss: 0.1415 - acc: 0.9409 - val_loss: 0.1439 - val_acc: 0.9408\n",
      "Epoch 43/500\n",
      "10216846/10216846 [==============================] - 45s 4us/step - loss: 0.1410 - acc: 0.9411 - val_loss: 0.1453 - val_acc: 0.9393\n",
      "Epoch 44/500\n",
      "10216846/10216846 [==============================] - 45s 4us/step - loss: 0.1407 - acc: 0.9413 - val_loss: 0.1455 - val_acc: 0.9401\n",
      "Epoch 45/500\n",
      "10216846/10216846 [==============================] - 45s 4us/step - loss: 0.1404 - acc: 0.9415 - val_loss: 0.1397 - val_acc: 0.9420\n",
      "Epoch 46/500\n",
      "10216846/10216846 [==============================] - 44s 4us/step - loss: 0.1398 - acc: 0.9417 - val_loss: 0.1389 - val_acc: 0.9416\n",
      "Epoch 47/500\n",
      "10216846/10216846 [==============================] - 45s 4us/step - loss: 0.1395 - acc: 0.9418 - val_loss: 0.1452 - val_acc: 0.9397\n",
      "Epoch 48/500\n",
      "10216846/10216846 [==============================] - 45s 4us/step - loss: 0.1392 - acc: 0.9420 - val_loss: 0.1443 - val_acc: 0.9388\n",
      "Epoch 49/500\n",
      "10216846/10216846 [==============================] - 45s 4us/step - loss: 0.1387 - acc: 0.9421 - val_loss: 0.1458 - val_acc: 0.9384\n",
      "Epoch 50/500\n",
      "10216846/10216846 [==============================] - 45s 4us/step - loss: 0.1385 - acc: 0.9422 - val_loss: 0.1415 - val_acc: 0.9400\n",
      "Epoch 51/500\n",
      "10216846/10216846 [==============================] - 44s 4us/step - loss: 0.1381 - acc: 0.9424 - val_loss: 0.1379 - val_acc: 0.9429\n",
      "Epoch 52/500\n",
      "10216846/10216846 [==============================] - 44s 4us/step - loss: 0.1379 - acc: 0.9424 - val_loss: 0.1459 - val_acc: 0.9379\n",
      "Epoch 53/500\n",
      "10216846/10216846 [==============================] - 45s 4us/step - loss: 0.1376 - acc: 0.9426 - val_loss: 0.1400 - val_acc: 0.9413\n",
      "Epoch 54/500\n",
      "10216846/10216846 [==============================] - 45s 4us/step - loss: 0.1373 - acc: 0.9427 - val_loss: 0.1437 - val_acc: 0.9386\n",
      "Epoch 55/500\n",
      "10216846/10216846 [==============================] - 45s 4us/step - loss: 0.1369 - acc: 0.9429 - val_loss: 0.1402 - val_acc: 0.9418\n",
      "Epoch 56/500\n",
      "10216846/10216846 [==============================] - 45s 4us/step - loss: 0.1369 - acc: 0.9429 - val_loss: 0.1393 - val_acc: 0.9409\n",
      "Epoch 57/500\n"
     ]
    },
    {
     "name": "stdout",
     "output_type": "stream",
     "text": [
      "10216846/10216846 [==============================] - 45s 4us/step - loss: 0.1364 - acc: 0.9431 - val_loss: 0.1412 - val_acc: 0.9422\n",
      "Epoch 58/500\n",
      "10216846/10216846 [==============================] - 44s 4us/step - loss: 0.1362 - acc: 0.9432 - val_loss: 0.1376 - val_acc: 0.9423\n",
      "Epoch 59/500\n",
      "10216846/10216846 [==============================] - 44s 4us/step - loss: 0.1360 - acc: 0.9432 - val_loss: 0.1384 - val_acc: 0.9423\n",
      "Epoch 60/500\n",
      "10216846/10216846 [==============================] - 45s 4us/step - loss: 0.1358 - acc: 0.9433 - val_loss: 0.1418 - val_acc: 0.9396\n",
      "Epoch 61/500\n",
      "10216846/10216846 [==============================] - 45s 4us/step - loss: 0.1354 - acc: 0.9435 - val_loss: 0.1429 - val_acc: 0.9407\n",
      "Epoch 62/500\n",
      "10216846/10216846 [==============================] - 45s 4us/step - loss: 0.1352 - acc: 0.9435 - val_loss: 0.1396 - val_acc: 0.9416\n",
      "Epoch 63/500\n",
      "10216846/10216846 [==============================] - 45s 4us/step - loss: 0.1350 - acc: 0.9437 - val_loss: 0.1352 - val_acc: 0.9433\n",
      "Epoch 64/500\n",
      "10216846/10216846 [==============================] - 45s 4us/step - loss: 0.1348 - acc: 0.9437 - val_loss: 0.1365 - val_acc: 0.9435\n",
      "Epoch 65/500\n",
      "10216846/10216846 [==============================] - 44s 4us/step - loss: 0.1346 - acc: 0.9438 - val_loss: 0.1365 - val_acc: 0.9423\n",
      "Epoch 66/500\n",
      "10216846/10216846 [==============================] - 44s 4us/step - loss: 0.1345 - acc: 0.9439 - val_loss: 0.1416 - val_acc: 0.9419\n",
      "Epoch 67/500\n",
      "10216846/10216846 [==============================] - 44s 4us/step - loss: 0.1343 - acc: 0.9440 - val_loss: 0.1449 - val_acc: 0.9393\n",
      "Epoch 68/500\n",
      "10216846/10216846 [==============================] - 44s 4us/step - loss: 0.1340 - acc: 0.9442 - val_loss: 0.1362 - val_acc: 0.9429\n",
      "Epoch 69/500\n",
      "10216846/10216846 [==============================] - 44s 4us/step - loss: 0.1338 - acc: 0.9441 - val_loss: 0.1466 - val_acc: 0.9398\n",
      "Epoch 70/500\n",
      "10216846/10216846 [==============================] - 44s 4us/step - loss: 0.1337 - acc: 0.9442 - val_loss: 0.1377 - val_acc: 0.9415\n",
      "Epoch 71/500\n",
      "10216846/10216846 [==============================] - 45s 4us/step - loss: 0.1335 - acc: 0.9443 - val_loss: 0.1400 - val_acc: 0.9414\n",
      "Epoch 72/500\n",
      "10216846/10216846 [==============================] - 45s 4us/step - loss: 0.1333 - acc: 0.9444 - val_loss: 0.1338 - val_acc: 0.9438\n",
      "Epoch 73/500\n",
      "10216846/10216846 [==============================] - 45s 4us/step - loss: 0.1331 - acc: 0.9445 - val_loss: 0.1367 - val_acc: 0.9438\n",
      "Epoch 74/500\n",
      "10216846/10216846 [==============================] - 44s 4us/step - loss: 0.1330 - acc: 0.9446 - val_loss: 0.1401 - val_acc: 0.9424\n",
      "Epoch 75/500\n",
      "10216846/10216846 [==============================] - 44s 4us/step - loss: 0.1329 - acc: 0.9446 - val_loss: 0.1356 - val_acc: 0.9428\n",
      "Epoch 76/500\n",
      "10216846/10216846 [==============================] - 44s 4us/step - loss: 0.1327 - acc: 0.9447 - val_loss: 0.1363 - val_acc: 0.9427\n",
      "Epoch 77/500\n",
      "10216846/10216846 [==============================] - 44s 4us/step - loss: 0.1325 - acc: 0.9448 - val_loss: 0.1368 - val_acc: 0.9434\n",
      "Epoch 78/500\n",
      "10216846/10216846 [==============================] - 44s 4us/step - loss: 0.1324 - acc: 0.9449 - val_loss: 0.1393 - val_acc: 0.9407\n",
      "Epoch 79/500\n",
      "10216846/10216846 [==============================] - 44s 4us/step - loss: 0.1322 - acc: 0.9449 - val_loss: 0.1341 - val_acc: 0.9442\n",
      "Epoch 80/500\n",
      "10216846/10216846 [==============================] - 45s 4us/step - loss: 0.1320 - acc: 0.9451 - val_loss: 0.1327 - val_acc: 0.9449\n",
      "Epoch 81/500\n",
      "10216846/10216846 [==============================] - 45s 4us/step - loss: 0.1318 - acc: 0.9451 - val_loss: 0.1392 - val_acc: 0.9424\n",
      "Epoch 82/500\n",
      "10216846/10216846 [==============================] - 45s 4us/step - loss: 0.1317 - acc: 0.9451 - val_loss: 0.1346 - val_acc: 0.9439\n",
      "Epoch 83/500\n",
      "10216846/10216846 [==============================] - 45s 4us/step - loss: 0.1315 - acc: 0.9452 - val_loss: 0.1415 - val_acc: 0.9414\n",
      "Epoch 84/500\n",
      "10216846/10216846 [==============================] - 44s 4us/step - loss: 0.1313 - acc: 0.9453 - val_loss: 0.1318 - val_acc: 0.9449\n",
      "Epoch 85/500\n",
      "10216846/10216846 [==============================] - 45s 4us/step - loss: 0.1312 - acc: 0.9454 - val_loss: 0.1343 - val_acc: 0.9444\n",
      "Epoch 86/500\n",
      "10216846/10216846 [==============================] - 44s 4us/step - loss: 0.1310 - acc: 0.9454 - val_loss: 0.1331 - val_acc: 0.9444\n",
      "Epoch 87/500\n",
      "10216846/10216846 [==============================] - 45s 4us/step - loss: 0.1309 - acc: 0.9454 - val_loss: 0.1314 - val_acc: 0.9452\n",
      "Epoch 88/500\n",
      "10216846/10216846 [==============================] - 45s 4us/step - loss: 0.1307 - acc: 0.9456 - val_loss: 0.1381 - val_acc: 0.9425\n",
      "Epoch 89/500\n",
      "10216846/10216846 [==============================] - 44s 4us/step - loss: 0.1306 - acc: 0.9456 - val_loss: 0.1334 - val_acc: 0.9442\n",
      "Epoch 90/500\n",
      "10216846/10216846 [==============================] - 45s 4us/step - loss: 0.1304 - acc: 0.9457 - val_loss: 0.1353 - val_acc: 0.9443\n",
      "Epoch 91/500\n",
      "10216846/10216846 [==============================] - 45s 4us/step - loss: 0.1303 - acc: 0.9457 - val_loss: 0.1431 - val_acc: 0.9401\n",
      "Epoch 92/500\n",
      "10216846/10216846 [==============================] - 45s 4us/step - loss: 0.1301 - acc: 0.9458 - val_loss: 0.1367 - val_acc: 0.9425\n",
      "Epoch 93/500\n",
      "10216846/10216846 [==============================] - 45s 4us/step - loss: 0.1301 - acc: 0.9458 - val_loss: 0.1316 - val_acc: 0.9457\n",
      "Epoch 94/500\n",
      "10216846/10216846 [==============================] - 45s 4us/step - loss: 0.1298 - acc: 0.9459 - val_loss: 0.1325 - val_acc: 0.9444\n",
      "Epoch 95/500\n",
      "10216846/10216846 [==============================] - 45s 4us/step - loss: 0.1297 - acc: 0.9460 - val_loss: 0.1331 - val_acc: 0.9445\n",
      "Epoch 96/500\n",
      "10216846/10216846 [==============================] - 45s 4us/step - loss: 0.1295 - acc: 0.9460 - val_loss: 0.1329 - val_acc: 0.9439\n",
      "Epoch 97/500\n",
      "10216846/10216846 [==============================] - 45s 4us/step - loss: 0.1294 - acc: 0.9461 - val_loss: 0.1397 - val_acc: 0.9417\n",
      "Epoch 98/500\n",
      "10216846/10216846 [==============================] - 45s 4us/step - loss: 0.1292 - acc: 0.9462 - val_loss: 0.1293 - val_acc: 0.9456\n",
      "Epoch 99/500\n",
      "10216846/10216846 [==============================] - 45s 4us/step - loss: 0.1291 - acc: 0.9462 - val_loss: 0.1316 - val_acc: 0.9461\n",
      "Epoch 100/500\n",
      "10216846/10216846 [==============================] - 45s 4us/step - loss: 0.1290 - acc: 0.9463 - val_loss: 0.1314 - val_acc: 0.9458\n",
      "Epoch 101/500\n",
      "10216846/10216846 [==============================] - 45s 4us/step - loss: 0.1289 - acc: 0.9463 - val_loss: 0.1296 - val_acc: 0.9463\n",
      "Epoch 102/500\n",
      "10216846/10216846 [==============================] - 45s 4us/step - loss: 0.1285 - acc: 0.9465 - val_loss: 0.1295 - val_acc: 0.9461\n",
      "Epoch 105/500\n",
      "10216846/10216846 [==============================] - 44s 4us/step - loss: 0.1284 - acc: 0.9465 - val_loss: 0.1318 - val_acc: 0.9451\n",
      "Epoch 106/500\n",
      "10216846/10216846 [==============================] - 44s 4us/step - loss: 0.1283 - acc: 0.9466 - val_loss: 0.1315 - val_acc: 0.9455\n",
      "Epoch 107/500\n",
      "10216846/10216846 [==============================] - 45s 4us/step - loss: 0.1282 - acc: 0.9467 - val_loss: 0.1295 - val_acc: 0.9465\n",
      "Epoch 108/500\n",
      "10216846/10216846 [==============================] - 45s 4us/step - loss: 0.1281 - acc: 0.9466 - val_loss: 0.1308 - val_acc: 0.9459\n",
      "Epoch 109/500\n",
      " 7860224/10216846 [======================>.......] - ETA: 7s - loss: 0.1279 - acc: 0.9467"
     ]
    },
    {
     "name": "stderr",
     "output_type": "stream",
     "text": [
      "IOPub message rate exceeded.\n",
      "The notebook server will temporarily stop sending output\n",
      "to the client in order to avoid crashing it.\n",
      "To change this limit, set the config variable\n",
      "`--NotebookApp.iopub_msg_rate_limit`.\n",
      "\n",
      "Current values:\n",
      "NotebookApp.iopub_msg_rate_limit=1000.0 (msgs/sec)\n",
      "NotebookApp.rate_limit_window=3.0 (secs)\n",
      "\n"
     ]
    },
    {
     "name": "stdout",
     "output_type": "stream",
     "text": [
      "10216846/10216846 [==============================] - 45s 4us/step - loss: 0.1259 - acc: 0.9476 - val_loss: 0.1323 - val_acc: 0.9453\n",
      "Epoch 129/500\n",
      "10216846/10216846 [==============================] - 45s 4us/step - loss: 0.1258 - acc: 0.9477 - val_loss: 0.1315 - val_acc: 0.9449\n",
      "Epoch 130/500\n",
      "10216846/10216846 [==============================] - 45s 4us/step - loss: 0.1257 - acc: 0.9477 - val_loss: 0.1280 - val_acc: 0.9473\n",
      "Epoch 131/500\n",
      "10216846/10216846 [==============================] - 45s 4us/step - loss: 0.1255 - acc: 0.9477 - val_loss: 0.1381 - val_acc: 0.9430\n",
      "Epoch 132/500\n",
      "10216846/10216846 [==============================] - 45s 4us/step - loss: 0.1256 - acc: 0.9477 - val_loss: 0.1278 - val_acc: 0.9472\n",
      "Epoch 133/500\n",
      " 3805184/10216846 [==========>...................] - ETA: 22s - loss: 0.1255 - acc: 0.9478"
     ]
    },
    {
     "name": "stderr",
     "output_type": "stream",
     "text": [
      "IOPub message rate exceeded.\n",
      "The notebook server will temporarily stop sending output\n",
      "to the client in order to avoid crashing it.\n",
      "To change this limit, set the config variable\n",
      "`--NotebookApp.iopub_msg_rate_limit`.\n",
      "\n",
      "Current values:\n",
      "NotebookApp.iopub_msg_rate_limit=1000.0 (msgs/sec)\n",
      "NotebookApp.rate_limit_window=3.0 (secs)\n",
      "\n"
     ]
    },
    {
     "name": "stdout",
     "output_type": "stream",
     "text": [
      "10216846/10216846 [==============================] - 45s 4us/step - loss: 0.1241 - acc: 0.9483 - val_loss: 0.1286 - val_acc: 0.9471\n",
      "Epoch 151/500\n",
      "10216846/10216846 [==============================] - 45s 4us/step - loss: 0.1240 - acc: 0.9484 - val_loss: 0.1260 - val_acc: 0.9469\n",
      "Epoch 152/500\n",
      " 3547136/10216846 [=========>....................] - ETA: 22s - loss: 0.1240 - acc: 0.9484"
     ]
    },
    {
     "name": "stderr",
     "output_type": "stream",
     "text": [
      "IOPub message rate exceeded.\n",
      "The notebook server will temporarily stop sending output\n",
      "to the client in order to avoid crashing it.\n",
      "To change this limit, set the config variable\n",
      "`--NotebookApp.iopub_msg_rate_limit`.\n",
      "\n",
      "Current values:\n",
      "NotebookApp.iopub_msg_rate_limit=1000.0 (msgs/sec)\n",
      "NotebookApp.rate_limit_window=3.0 (secs)\n",
      "\n"
     ]
    },
    {
     "name": "stdout",
     "output_type": "stream",
     "text": [
      "10216846/10216846 [==============================] - 45s 4us/step - loss: 0.1239 - acc: 0.9484 - val_loss: 0.1287 - val_acc: 0.9471\n",
      "Epoch 154/500\n",
      "10216846/10216846 [==============================] - 45s 4us/step - loss: 0.1239 - acc: 0.9485 - val_loss: 0.1266 - val_acc: 0.9471\n",
      "Epoch 155/500\n",
      "10216846/10216846 [==============================] - 45s 4us/step - loss: 0.1238 - acc: 0.9484 - val_loss: 0.1293 - val_acc: 0.9464\n",
      "Epoch 156/500\n",
      "10216846/10216846 [==============================] - 45s 4us/step - loss: 0.1238 - acc: 0.9485 - val_loss: 0.1249 - val_acc: 0.9473\n",
      "Epoch 157/500\n"
     ]
    },
    {
     "name": "stderr",
     "output_type": "stream",
     "text": [
      "IOPub message rate exceeded.\n",
      "The notebook server will temporarily stop sending output\n",
      "to the client in order to avoid crashing it.\n",
      "To change this limit, set the config variable\n",
      "`--NotebookApp.iopub_msg_rate_limit`.\n",
      "\n",
      "Current values:\n",
      "NotebookApp.iopub_msg_rate_limit=1000.0 (msgs/sec)\n",
      "NotebookApp.rate_limit_window=3.0 (secs)\n",
      "\n"
     ]
    },
    {
     "name": "stdout",
     "output_type": "stream",
     "text": [
      "10216846/10216846 [==============================] - 45s 4us/step - loss: 0.1225 - acc: 0.9490 - val_loss: 0.1230 - val_acc: 0.9486\n",
      "Epoch 175/500\n",
      "10216846/10216846 [==============================] - 45s 4us/step - loss: 0.1224 - acc: 0.9490 - val_loss: 0.1245 - val_acc: 0.9482\n",
      "Epoch 176/500\n",
      "10216846/10216846 [==============================] - 45s 4us/step - loss: 0.1224 - acc: 0.9491 - val_loss: 0.1217 - val_acc: 0.9496\n",
      "Epoch 177/500\n",
      "10216846/10216846 [==============================] - 45s 4us/step - loss: 0.1223 - acc: 0.9491 - val_loss: 0.1259 - val_acc: 0.9479\n",
      "Epoch 178/500\n",
      " 8790016/10216846 [========================>.....] - ETA: 4s - loss: 0.1223 - acc: 0.9492"
     ]
    },
    {
     "name": "stderr",
     "output_type": "stream",
     "text": [
      "IOPub message rate exceeded.\n",
      "The notebook server will temporarily stop sending output\n",
      "to the client in order to avoid crashing it.\n",
      "To change this limit, set the config variable\n",
      "`--NotebookApp.iopub_msg_rate_limit`.\n",
      "\n",
      "Current values:\n",
      "NotebookApp.iopub_msg_rate_limit=1000.0 (msgs/sec)\n",
      "NotebookApp.rate_limit_window=3.0 (secs)\n",
      "\n"
     ]
    },
    {
     "name": "stdout",
     "output_type": "stream",
     "text": [
      "10216846/10216846 [==============================] - 45s 4us/step - loss: 0.1215 - acc: 0.9495 - val_loss: 0.1250 - val_acc: 0.9488\n",
      "Epoch 196/500\n",
      " 9179136/10216846 [=========================>....] - ETA: 3s - loss: 0.1215 - acc: 0.9495"
     ]
    },
    {
     "name": "stderr",
     "output_type": "stream",
     "text": [
      "IOPub message rate exceeded.\n",
      "The notebook server will temporarily stop sending output\n",
      "to the client in order to avoid crashing it.\n",
      "To change this limit, set the config variable\n",
      "`--NotebookApp.iopub_msg_rate_limit`.\n",
      "\n",
      "Current values:\n",
      "NotebookApp.iopub_msg_rate_limit=1000.0 (msgs/sec)\n",
      "NotebookApp.rate_limit_window=3.0 (secs)\n",
      "\n"
     ]
    },
    {
     "name": "stdout",
     "output_type": "stream",
     "text": [
      "10216846/10216846 [==============================] - 45s 4us/step - loss: 0.1214 - acc: 0.9495 - val_loss: 0.1232 - val_acc: 0.9483\n",
      "Epoch 199/500\n",
      "10216846/10216846 [==============================] - 45s 4us/step - loss: 0.1214 - acc: 0.9495 - val_loss: 0.1271 - val_acc: 0.9468\n",
      "Epoch 200/500\n",
      "10216846/10216846 [==============================] - 45s 4us/step - loss: 0.1213 - acc: 0.9495 - val_loss: 0.1263 - val_acc: 0.9481\n",
      "Epoch 201/500\n",
      "10216846/10216846 [==============================] - 45s 4us/step - loss: 0.1212 - acc: 0.9496 - val_loss: 0.1273 - val_acc: 0.9472\n",
      "Epoch 202/500\n",
      " 4759552/10216846 [============>.................] - ETA: 18s - loss: 0.1213 - acc: 0.9495"
     ]
    },
    {
     "name": "stderr",
     "output_type": "stream",
     "text": [
      "IOPub message rate exceeded.\n",
      "The notebook server will temporarily stop sending output\n",
      "to the client in order to avoid crashing it.\n",
      "To change this limit, set the config variable\n",
      "`--NotebookApp.iopub_msg_rate_limit`.\n",
      "\n",
      "Current values:\n",
      "NotebookApp.iopub_msg_rate_limit=1000.0 (msgs/sec)\n",
      "NotebookApp.rate_limit_window=3.0 (secs)\n",
      "\n"
     ]
    },
    {
     "name": "stdout",
     "output_type": "stream",
     "text": [
      "10216846/10216846 [==============================] - 44s 4us/step - loss: 0.1205 - acc: 0.9499 - val_loss: 0.1230 - val_acc: 0.9490\n",
      "Epoch 220/500\n",
      " 3661824/10216846 [=========>....................] - ETA: 22s - loss: 0.1206 - acc: 0.9499"
     ]
    },
    {
     "name": "stderr",
     "output_type": "stream",
     "text": [
      "IOPub message rate exceeded.\n",
      "The notebook server will temporarily stop sending output\n",
      "to the client in order to avoid crashing it.\n",
      "To change this limit, set the config variable\n",
      "`--NotebookApp.iopub_msg_rate_limit`.\n",
      "\n",
      "Current values:\n",
      "NotebookApp.iopub_msg_rate_limit=1000.0 (msgs/sec)\n",
      "NotebookApp.rate_limit_window=3.0 (secs)\n",
      "\n"
     ]
    },
    {
     "name": "stdout",
     "output_type": "stream",
     "text": [
      "10216846/10216846 [==============================] - 45s 4us/step - loss: 0.1204 - acc: 0.9499 - val_loss: 0.1304 - val_acc: 0.9465\n",
      "Epoch 223/500\n",
      "10216846/10216846 [==============================] - 45s 4us/step - loss: 0.1204 - acc: 0.9499 - val_loss: 0.1215 - val_acc: 0.9490\n",
      "Epoch 224/500\n",
      "10216846/10216846 [==============================] - 45s 4us/step - loss: 0.1203 - acc: 0.9499 - val_loss: 0.1233 - val_acc: 0.9479\n",
      "Epoch 225/500\n",
      " 8658944/10216846 [========================>.....] - ETA: 5s - loss: 0.1203 - acc: 0.9499"
     ]
    },
    {
     "name": "stderr",
     "output_type": "stream",
     "text": [
      "IOPub message rate exceeded.\n",
      "The notebook server will temporarily stop sending output\n",
      "to the client in order to avoid crashing it.\n",
      "To change this limit, set the config variable\n",
      "`--NotebookApp.iopub_msg_rate_limit`.\n",
      "\n",
      "Current values:\n",
      "NotebookApp.iopub_msg_rate_limit=1000.0 (msgs/sec)\n",
      "NotebookApp.rate_limit_window=3.0 (secs)\n",
      "\n"
     ]
    },
    {
     "name": "stdout",
     "output_type": "stream",
     "text": [
      "10216846/10216846 [==============================] - 45s 4us/step - loss: 0.1198 - acc: 0.9501 - val_loss: 0.1252 - val_acc: 0.9474\n",
      "Epoch 243/500\n",
      "10216846/10216846 [==============================] - 45s 4us/step - loss: 0.1199 - acc: 0.9502 - val_loss: 0.1210 - val_acc: 0.9492\n",
      "Epoch 244/500\n",
      "10216846/10216846 [==============================] - 45s 4us/step - loss: 0.1198 - acc: 0.9501 - val_loss: 0.1212 - val_acc: 0.9491\n",
      "Epoch 245/500\n",
      "10216846/10216846 [==============================] - 45s 4us/step - loss: 0.1197 - acc: 0.9502 - val_loss: 0.1250 - val_acc: 0.9490\n",
      "Epoch 246/500\n",
      "10216846/10216846 [==============================] - 45s 4us/step - loss: 0.1197 - acc: 0.9502 - val_loss: 0.1195 - val_acc: 0.9501\n",
      "Epoch 247/500\n",
      " 2879488/10216846 [=======>......................] - ETA: 25s - loss: 0.1189 - acc: 0.9504"
     ]
    },
    {
     "name": "stderr",
     "output_type": "stream",
     "text": [
      "IOPub message rate exceeded.\n",
      "The notebook server will temporarily stop sending output\n",
      "to the client in order to avoid crashing it.\n",
      "To change this limit, set the config variable\n",
      "`--NotebookApp.iopub_msg_rate_limit`.\n",
      "\n",
      "Current values:\n",
      "NotebookApp.iopub_msg_rate_limit=1000.0 (msgs/sec)\n",
      "NotebookApp.rate_limit_window=3.0 (secs)\n",
      "\n"
     ]
    },
    {
     "name": "stdout",
     "output_type": "stream",
     "text": [
      "10216846/10216846 [==============================] - 44s 4us/step - loss: 0.1192 - acc: 0.9505 - val_loss: 0.1187 - val_acc: 0.9508\n",
      "Epoch 266/500\n",
      "10216846/10216846 [==============================] - 45s 4us/step - loss: 0.1191 - acc: 0.9504 - val_loss: 0.1213 - val_acc: 0.9495\n",
      "Epoch 267/500\n",
      "10216846/10216846 [==============================] - 44s 4us/step - loss: 0.1191 - acc: 0.9504 - val_loss: 0.1212 - val_acc: 0.9498\n",
      "Epoch 268/500\n",
      "10216846/10216846 [==============================] - 45s 4us/step - loss: 0.1191 - acc: 0.9504 - val_loss: 0.1235 - val_acc: 0.9487\n",
      "Epoch 269/500\n",
      "10216846/10216846 [==============================] - 44s 4us/step - loss: 0.1191 - acc: 0.9504 - val_loss: 0.1204 - val_acc: 0.9498\n",
      "Epoch 270/500\n",
      " 4444160/10216846 [============>.................] - ETA: 19s - loss: 0.1188 - acc: 0.9505"
     ]
    },
    {
     "name": "stderr",
     "output_type": "stream",
     "text": [
      "IOPub message rate exceeded.\n",
      "The notebook server will temporarily stop sending output\n",
      "to the client in order to avoid crashing it.\n",
      "To change this limit, set the config variable\n",
      "`--NotebookApp.iopub_msg_rate_limit`.\n",
      "\n",
      "Current values:\n",
      "NotebookApp.iopub_msg_rate_limit=1000.0 (msgs/sec)\n",
      "NotebookApp.rate_limit_window=3.0 (secs)\n",
      "\n"
     ]
    },
    {
     "name": "stdout",
     "output_type": "stream",
     "text": [
      "10216846/10216846 [==============================] - 45s 4us/step - loss: 0.1186 - acc: 0.9507 - val_loss: 0.1175 - val_acc: 0.9511\n",
      "Epoch 289/500\n",
      "10216846/10216846 [==============================] - 45s 4us/step - loss: 0.1186 - acc: 0.9507 - val_loss: 0.1250 - val_acc: 0.9481\n",
      "Epoch 290/500\n",
      "10216846/10216846 [==============================] - 45s 4us/step - loss: 0.1186 - acc: 0.9507 - val_loss: 0.1201 - val_acc: 0.9500\n",
      "Epoch 291/500\n",
      "10216846/10216846 [==============================] - 45s 4us/step - loss: 0.1186 - acc: 0.9507 - val_loss: 0.1265 - val_acc: 0.9475\n",
      "Epoch 292/500\n",
      "10216846/10216846 [==============================] - 45s 4us/step - loss: 0.1185 - acc: 0.9508 - val_loss: 0.1209 - val_acc: 0.9498\n",
      "Epoch 293/500\n",
      " 4542464/10216846 [============>.................] - ETA: 19s - loss: 0.1182 - acc: 0.9509"
     ]
    },
    {
     "name": "stderr",
     "output_type": "stream",
     "text": [
      "IOPub message rate exceeded.\n",
      "The notebook server will temporarily stop sending output\n",
      "to the client in order to avoid crashing it.\n",
      "To change this limit, set the config variable\n",
      "`--NotebookApp.iopub_msg_rate_limit`.\n",
      "\n",
      "Current values:\n",
      "NotebookApp.iopub_msg_rate_limit=1000.0 (msgs/sec)\n",
      "NotebookApp.rate_limit_window=3.0 (secs)\n",
      "\n"
     ]
    },
    {
     "name": "stdout",
     "output_type": "stream",
     "text": [
      "10216846/10216846 [==============================] - 45s 4us/step - loss: 0.1182 - acc: 0.9509 - val_loss: 0.1213 - val_acc: 0.9491\n",
      "Epoch 313/500\n",
      "10216846/10216846 [==============================] - 45s 4us/step - loss: 0.1181 - acc: 0.9510 - val_loss: 0.1226 - val_acc: 0.9490\n",
      "Epoch 314/500\n",
      "10216846/10216846 [==============================] - 45s 4us/step - loss: 0.1181 - acc: 0.9509 - val_loss: 0.1221 - val_acc: 0.9503\n",
      "Epoch 315/500\n",
      "10216846/10216846 [==============================] - 45s 4us/step - loss: 0.1181 - acc: 0.9509 - val_loss: 0.1197 - val_acc: 0.9507\n",
      "Epoch 316/500\n",
      "10216846/10216846 [==============================] - 45s 4us/step - loss: 0.1180 - acc: 0.9510 - val_loss: 0.1191 - val_acc: 0.9501\n",
      "Epoch 317/500\n",
      "  126976/10216846 [..............................] - ETA: 1:04 - loss: 0.1184 - acc: 0.9509"
     ]
    },
    {
     "name": "stderr",
     "output_type": "stream",
     "text": [
      "IOPub message rate exceeded.\n",
      "The notebook server will temporarily stop sending output\n",
      "to the client in order to avoid crashing it.\n",
      "To change this limit, set the config variable\n",
      "`--NotebookApp.iopub_msg_rate_limit`.\n",
      "\n",
      "Current values:\n",
      "NotebookApp.iopub_msg_rate_limit=1000.0 (msgs/sec)\n",
      "NotebookApp.rate_limit_window=3.0 (secs)\n",
      "\n"
     ]
    },
    {
     "name": "stdout",
     "output_type": "stream",
     "text": [
      "10216846/10216846 [==============================] - 45s 4us/step - loss: 0.1176 - acc: 0.9511 - val_loss: 0.1316 - val_acc: 0.9448\n",
      "Epoch 336/500\n",
      "10216846/10216846 [==============================] - 45s 4us/step - loss: 0.1176 - acc: 0.9511 - val_loss: 0.1206 - val_acc: 0.9504\n",
      "Epoch 337/500\n",
      "10216846/10216846 [==============================] - 45s 4us/step - loss: 0.1175 - acc: 0.9511 - val_loss: 0.1181 - val_acc: 0.9508\n",
      "Epoch 338/500\n",
      "10216846/10216846 [==============================] - 45s 4us/step - loss: 0.1175 - acc: 0.9511 - val_loss: 0.1193 - val_acc: 0.9510\n",
      "Epoch 339/500\n",
      "10216846/10216846 [==============================] - 45s 4us/step - loss: 0.1175 - acc: 0.9512 - val_loss: 0.1238 - val_acc: 0.9493\n",
      "Epoch 340/500\n",
      " 5345280/10216846 [==============>...............] - ETA: 16s - loss: 0.1175 - acc: 0.9512"
     ]
    },
    {
     "name": "stderr",
     "output_type": "stream",
     "text": [
      "IOPub message rate exceeded.\n",
      "The notebook server will temporarily stop sending output\n",
      "to the client in order to avoid crashing it.\n",
      "To change this limit, set the config variable\n",
      "`--NotebookApp.iopub_msg_rate_limit`.\n",
      "\n",
      "Current values:\n",
      "NotebookApp.iopub_msg_rate_limit=1000.0 (msgs/sec)\n",
      "NotebookApp.rate_limit_window=3.0 (secs)\n",
      "\n"
     ]
    },
    {
     "name": "stdout",
     "output_type": "stream",
     "text": [
      "10216846/10216846 [==============================] - 45s 4us/step - loss: 0.1171 - acc: 0.9513 - val_loss: 0.1234 - val_acc: 0.9486\n",
      "Epoch 357/500\n",
      "10216846/10216846 [==============================] - 45s 4us/step - loss: 0.1170 - acc: 0.9514 - val_loss: 0.1206 - val_acc: 0.9496\n",
      "Epoch 358/500\n",
      "10216846/10216846 [==============================] - 45s 4us/step - loss: 0.1169 - acc: 0.9514 - val_loss: 0.1203 - val_acc: 0.9502\n",
      "Epoch 359/500\n",
      " 1282048/10216846 [==>...........................] - ETA: 32s - loss: 0.1168 - acc: 0.9514"
     ]
    },
    {
     "name": "stderr",
     "output_type": "stream",
     "text": [
      "IOPub message rate exceeded.\n",
      "The notebook server will temporarily stop sending output\n",
      "to the client in order to avoid crashing it.\n",
      "To change this limit, set the config variable\n",
      "`--NotebookApp.iopub_msg_rate_limit`.\n",
      "\n",
      "Current values:\n",
      "NotebookApp.iopub_msg_rate_limit=1000.0 (msgs/sec)\n",
      "NotebookApp.rate_limit_window=3.0 (secs)\n",
      "\n"
     ]
    },
    {
     "name": "stdout",
     "output_type": "stream",
     "text": [
      "10216846/10216846 [==============================] - 45s 4us/step - loss: 0.1169 - acc: 0.9514 - val_loss: 0.1192 - val_acc: 0.9497\n",
      "Epoch 362/500\n",
      "10216846/10216846 [==============================] - 45s 4us/step - loss: 0.1170 - acc: 0.9514 - val_loss: 0.1204 - val_acc: 0.9503\n",
      "Epoch 363/500\n",
      "10216846/10216846 [==============================] - 45s 4us/step - loss: 0.1169 - acc: 0.9514 - val_loss: 0.1171 - val_acc: 0.9519\n",
      "Epoch 364/500\n",
      "  630784/10216846 [>.............................] - ETA: 37s - loss: 0.1157 - acc: 0.9521"
     ]
    },
    {
     "name": "stderr",
     "output_type": "stream",
     "text": [
      "IOPub message rate exceeded.\n",
      "The notebook server will temporarily stop sending output\n",
      "to the client in order to avoid crashing it.\n",
      "To change this limit, set the config variable\n",
      "`--NotebookApp.iopub_msg_rate_limit`.\n",
      "\n",
      "Current values:\n",
      "NotebookApp.iopub_msg_rate_limit=1000.0 (msgs/sec)\n",
      "NotebookApp.rate_limit_window=3.0 (secs)\n",
      "\n"
     ]
    },
    {
     "name": "stdout",
     "output_type": "stream",
     "text": [
      "10216846/10216846 [==============================] - 44s 4us/step - loss: 0.1166 - acc: 0.9515 - val_loss: 0.1193 - val_acc: 0.9504\n",
      "Epoch 380/500\n",
      "10216846/10216846 [==============================] - 45s 4us/step - loss: 0.1166 - acc: 0.9515 - val_loss: 0.1202 - val_acc: 0.9501\n",
      "Epoch 381/500\n",
      "10216846/10216846 [==============================] - 45s 4us/step - loss: 0.1165 - acc: 0.9515 - val_loss: 0.1193 - val_acc: 0.9496\n",
      "Epoch 382/500\n",
      " 4677632/10216846 [============>.................] - ETA: 18s - loss: 0.1164 - acc: 0.9516"
     ]
    },
    {
     "name": "stderr",
     "output_type": "stream",
     "text": [
      "IOPub message rate exceeded.\n",
      "The notebook server will temporarily stop sending output\n",
      "to the client in order to avoid crashing it.\n",
      "To change this limit, set the config variable\n",
      "`--NotebookApp.iopub_msg_rate_limit`.\n",
      "\n",
      "Current values:\n",
      "NotebookApp.iopub_msg_rate_limit=1000.0 (msgs/sec)\n",
      "NotebookApp.rate_limit_window=3.0 (secs)\n",
      "\n"
     ]
    },
    {
     "name": "stdout",
     "output_type": "stream",
     "text": [
      "10216846/10216846 [==============================] - 44s 4us/step - loss: 0.1165 - acc: 0.9516 - val_loss: 0.1184 - val_acc: 0.9508\n",
      "Epoch 386/500\n",
      "10216846/10216846 [==============================] - 45s 4us/step - loss: 0.1165 - acc: 0.9515 - val_loss: 0.1229 - val_acc: 0.9491\n",
      "Epoch 387/500\n",
      " 4079616/10216846 [==========>...................] - ETA: 20s - loss: 0.1166 - acc: 0.9514"
     ]
    },
    {
     "name": "stderr",
     "output_type": "stream",
     "text": [
      "IOPub message rate exceeded.\n",
      "The notebook server will temporarily stop sending output\n",
      "to the client in order to avoid crashing it.\n",
      "To change this limit, set the config variable\n",
      "`--NotebookApp.iopub_msg_rate_limit`.\n",
      "\n",
      "Current values:\n",
      "NotebookApp.iopub_msg_rate_limit=1000.0 (msgs/sec)\n",
      "NotebookApp.rate_limit_window=3.0 (secs)\n",
      "\n"
     ]
    },
    {
     "name": "stdout",
     "output_type": "stream",
     "text": [
      "10216846/10216846 [==============================] - 45s 4us/step - loss: 0.1161 - acc: 0.9517 - val_loss: 0.1209 - val_acc: 0.9497\n",
      "Epoch 404/500\n",
      "10216846/10216846 [==============================] - 45s 4us/step - loss: 0.1162 - acc: 0.9516 - val_loss: 0.1217 - val_acc: 0.9497\n",
      "Epoch 405/500\n",
      "10216846/10216846 [==============================] - 45s 4us/step - loss: 0.1162 - acc: 0.9517 - val_loss: 0.1209 - val_acc: 0.9495\n",
      "Epoch 406/500\n",
      "  221184/10216846 [..............................] - ETA: 50s - loss: 0.1151 - acc: 0.9522"
     ]
    },
    {
     "name": "stderr",
     "output_type": "stream",
     "text": [
      "IOPub message rate exceeded.\n",
      "The notebook server will temporarily stop sending output\n",
      "to the client in order to avoid crashing it.\n",
      "To change this limit, set the config variable\n",
      "`--NotebookApp.iopub_msg_rate_limit`.\n",
      "\n",
      "Current values:\n",
      "NotebookApp.iopub_msg_rate_limit=1000.0 (msgs/sec)\n",
      "NotebookApp.rate_limit_window=3.0 (secs)\n",
      "\n"
     ]
    },
    {
     "name": "stdout",
     "output_type": "stream",
     "text": [
      "10216846/10216846 [==============================] - 45s 4us/step - loss: 0.1161 - acc: 0.9517 - val_loss: 0.1172 - val_acc: 0.9511\n",
      "Epoch 409/500\n",
      "10216846/10216846 [==============================] - 45s 4us/step - loss: 0.1160 - acc: 0.9517 - val_loss: 0.1168 - val_acc: 0.9519\n",
      "Epoch 410/500\n",
      " 9150464/10216846 [=========================>....] - ETA: 3s - loss: 0.1159 - acc: 0.9518"
     ]
    },
    {
     "name": "stderr",
     "output_type": "stream",
     "text": [
      "IOPub message rate exceeded.\n",
      "The notebook server will temporarily stop sending output\n",
      "to the client in order to avoid crashing it.\n",
      "To change this limit, set the config variable\n",
      "`--NotebookApp.iopub_msg_rate_limit`.\n",
      "\n",
      "Current values:\n",
      "NotebookApp.iopub_msg_rate_limit=1000.0 (msgs/sec)\n",
      "NotebookApp.rate_limit_window=3.0 (secs)\n",
      "\n"
     ]
    },
    {
     "name": "stdout",
     "output_type": "stream",
     "text": [
      "10216846/10216846 [==============================] - 45s 4us/step - loss: 0.1159 - acc: 0.9518 - val_loss: 0.1230 - val_acc: 0.9477\n",
      "Epoch 427/500\n",
      "10216846/10216846 [==============================] - 45s 4us/step - loss: 0.1158 - acc: 0.9518 - val_loss: 0.1193 - val_acc: 0.9502\n",
      "Epoch 428/500\n",
      "10216846/10216846 [==============================] - 45s 4us/step - loss: 0.1158 - acc: 0.9518 - val_loss: 0.1225 - val_acc: 0.9482\n",
      "Epoch 429/500\n",
      "10216846/10216846 [==============================] - 45s 4us/step - loss: 0.1158 - acc: 0.9518 - val_loss: 0.1199 - val_acc: 0.9502\n",
      "Epoch 430/500\n",
      "10216846/10216846 [==============================] - 45s 4us/step - loss: 0.1158 - acc: 0.9518 - val_loss: 0.1169 - val_acc: 0.9512\n",
      "Epoch 431/500\n",
      " 5476352/10216846 [===============>..............] - ETA: 16s - loss: 0.1160 - acc: 0.9517"
     ]
    },
    {
     "name": "stderr",
     "output_type": "stream",
     "text": [
      "IOPub message rate exceeded.\n",
      "The notebook server will temporarily stop sending output\n",
      "to the client in order to avoid crashing it.\n",
      "To change this limit, set the config variable\n",
      "`--NotebookApp.iopub_msg_rate_limit`.\n",
      "\n",
      "Current values:\n",
      "NotebookApp.iopub_msg_rate_limit=1000.0 (msgs/sec)\n",
      "NotebookApp.rate_limit_window=3.0 (secs)\n",
      "\n"
     ]
    },
    {
     "name": "stdout",
     "output_type": "stream",
     "text": [
      "10216846/10216846 [==============================] - 45s 4us/step - loss: 0.1156 - acc: 0.9519 - val_loss: 0.1185 - val_acc: 0.9501\n",
      "Epoch 447/500\n",
      "10216846/10216846 [==============================] - 45s 4us/step - loss: 0.1156 - acc: 0.9518 - val_loss: 0.1181 - val_acc: 0.9514\n",
      "Epoch 448/500\n",
      " 6557696/10216846 [==================>...........] - ETA: 12s - loss: 0.1155 - acc: 0.9519"
     ]
    },
    {
     "name": "stderr",
     "output_type": "stream",
     "text": [
      "IOPub message rate exceeded.\n",
      "The notebook server will temporarily stop sending output\n",
      "to the client in order to avoid crashing it.\n",
      "To change this limit, set the config variable\n",
      "`--NotebookApp.iopub_msg_rate_limit`.\n",
      "\n",
      "Current values:\n",
      "NotebookApp.iopub_msg_rate_limit=1000.0 (msgs/sec)\n",
      "NotebookApp.rate_limit_window=3.0 (secs)\n",
      "\n"
     ]
    },
    {
     "name": "stdout",
     "output_type": "stream",
     "text": [
      "10216846/10216846 [==============================] - 45s 4us/step - loss: 0.1155 - acc: 0.9519 - val_loss: 0.1185 - val_acc: 0.9502\n",
      "Epoch 452/500\n",
      "10216846/10216846 [==============================] - 45s 4us/step - loss: 0.1155 - acc: 0.9519 - val_loss: 0.1187 - val_acc: 0.9510\n",
      "Epoch 453/500\n",
      "10216846/10216846 [==============================] - 45s 4us/step - loss: 0.1155 - acc: 0.9519 - val_loss: 0.1199 - val_acc: 0.9505\n",
      "Epoch 454/500\n",
      " 8671232/10216846 [========================>.....] - ETA: 5s - loss: 0.1155 - acc: 0.9519"
     ]
    },
    {
     "name": "stderr",
     "output_type": "stream",
     "text": [
      "IOPub message rate exceeded.\n",
      "The notebook server will temporarily stop sending output\n",
      "to the client in order to avoid crashing it.\n",
      "To change this limit, set the config variable\n",
      "`--NotebookApp.iopub_msg_rate_limit`.\n",
      "\n",
      "Current values:\n",
      "NotebookApp.iopub_msg_rate_limit=1000.0 (msgs/sec)\n",
      "NotebookApp.rate_limit_window=3.0 (secs)\n",
      "\n"
     ]
    },
    {
     "name": "stdout",
     "output_type": "stream",
     "text": [
      "10216846/10216846 [==============================] - 45s 4us/step - loss: 0.1152 - acc: 0.9520 - val_loss: 0.1229 - val_acc: 0.9483\n",
      "Epoch 471/500\n",
      "10216846/10216846 [==============================] - 45s 4us/step - loss: 0.1152 - acc: 0.9521 - val_loss: 0.1167 - val_acc: 0.9514\n",
      "Epoch 472/500\n",
      "  561152/10216846 [>.............................] - ETA: 38s - loss: 0.1145 - acc: 0.9526"
     ]
    },
    {
     "name": "stderr",
     "output_type": "stream",
     "text": [
      "IOPub message rate exceeded.\n",
      "The notebook server will temporarily stop sending output\n",
      "to the client in order to avoid crashing it.\n",
      "To change this limit, set the config variable\n",
      "`--NotebookApp.iopub_msg_rate_limit`.\n",
      "\n",
      "Current values:\n",
      "NotebookApp.iopub_msg_rate_limit=1000.0 (msgs/sec)\n",
      "NotebookApp.rate_limit_window=3.0 (secs)\n",
      "\n"
     ]
    },
    {
     "name": "stdout",
     "output_type": "stream",
     "text": [
      "10216846/10216846 [==============================] - 45s 4us/step - loss: 0.1152 - acc: 0.9521 - val_loss: 0.1235 - val_acc: 0.9487\n",
      "Epoch 476/500\n",
      "10216846/10216846 [==============================] - 45s 4us/step - loss: 0.1152 - acc: 0.9520 - val_loss: 0.1195 - val_acc: 0.9503\n",
      "Epoch 477/500\n",
      "10216846/10216846 [==============================] - 45s 4us/step - loss: 0.1151 - acc: 0.9521 - val_loss: 0.1194 - val_acc: 0.9508\n",
      "Epoch 478/500\n",
      " 3051520/10216846 [=======>......................] - ETA: 24s - loss: 0.1150 - acc: 0.9522"
     ]
    },
    {
     "name": "stderr",
     "output_type": "stream",
     "text": [
      "IOPub message rate exceeded.\n",
      "The notebook server will temporarily stop sending output\n",
      "to the client in order to avoid crashing it.\n",
      "To change this limit, set the config variable\n",
      "`--NotebookApp.iopub_msg_rate_limit`.\n",
      "\n",
      "Current values:\n",
      "NotebookApp.iopub_msg_rate_limit=1000.0 (msgs/sec)\n",
      "NotebookApp.rate_limit_window=3.0 (secs)\n",
      "\n"
     ]
    },
    {
     "name": "stdout",
     "output_type": "stream",
     "text": [
      "10216846/10216846 [==============================] - 45s 4us/step - loss: 0.1150 - acc: 0.9521 - val_loss: 0.1162 - val_acc: 0.9521\n",
      "Epoch 494/500\n",
      "10216846/10216846 [==============================] - 45s 4us/step - loss: 0.1150 - acc: 0.9521 - val_loss: 0.1162 - val_acc: 0.9516\n",
      "Epoch 495/500\n",
      " 4743168/10216846 [============>.................] - ETA: 18s - loss: 0.1149 - acc: 0.9522"
     ]
    },
    {
     "name": "stderr",
     "output_type": "stream",
     "text": [
      "IOPub message rate exceeded.\n",
      "The notebook server will temporarily stop sending output\n",
      "to the client in order to avoid crashing it.\n",
      "To change this limit, set the config variable\n",
      "`--NotebookApp.iopub_msg_rate_limit`.\n",
      "\n",
      "Current values:\n",
      "NotebookApp.iopub_msg_rate_limit=1000.0 (msgs/sec)\n",
      "NotebookApp.rate_limit_window=3.0 (secs)\n",
      "\n"
     ]
    },
    {
     "name": "stdout",
     "output_type": "stream",
     "text": [
      "10216846/10216846 [==============================] - 45s 4us/step - loss: 0.1149 - acc: 0.9522 - val_loss: 0.1258 - val_acc: 0.9476\n",
      "Epoch 499/500\n",
      "10216846/10216846 [==============================] - 45s 4us/step - loss: 0.1149 - acc: 0.9521 - val_loss: 0.1169 - val_acc: 0.9504\n",
      "Epoch 500/500\n",
      "10216846/10216846 [==============================] - 45s 4us/step - loss: 0.1148 - acc: 0.9522 - val_loss: 0.1214 - val_acc: 0.9494\n"
     ]
    },
    {
     "data": {
      "text/plain": [
       "<keras.callbacks.History at 0x7fd80e58a240>"
      ]
     },
     "execution_count": 23,
     "metadata": {},
     "output_type": "execute_result"
    }
   ],
   "source": [
    "model.fit(X_train, y_train,\n",
    "      batch_size=batch_size,\n",
    "          epochs=epochs,\n",
    "          verbose=1,\n",
    "          validation_data=(X_test, y_test))"
   ]
  },
  {
   "cell_type": "code",
   "execution_count": 24,
   "metadata": {},
   "outputs": [],
   "source": [
    "# for i in range(7):\n",
    "#     batch_size = 64 * 2 ** i\n",
    "#     print(\"batch_size: \", batch_size)\n",
    "#     model.fit(X_train, y_train,\n",
    "#           batch_size=batch_size,\n",
    "#               epochs=1,\n",
    "#               verbose=1,\n",
    "#               validation_data=(X_test, y_test))"
   ]
  },
  {
   "cell_type": "code",
   "execution_count": 25,
   "metadata": {},
   "outputs": [
    {
     "ename": "KeyboardInterrupt",
     "evalue": "",
     "output_type": "error",
     "traceback": [
      "\u001b[0;31m---------------------------------------------------------------------------\u001b[0m",
      "\u001b[0;31mKeyboardInterrupt\u001b[0m                         Traceback (most recent call last)",
      "\u001b[0;32m<ipython-input-25-a47fbc6f3577>\u001b[0m in \u001b[0;36m<module>\u001b[0;34m()\u001b[0m\n\u001b[0;32m----> 1\u001b[0;31m \u001b[0mscore\u001b[0m \u001b[0;34m=\u001b[0m \u001b[0mmodel\u001b[0m\u001b[0;34m.\u001b[0m\u001b[0mevaluate\u001b[0m\u001b[0;34m(\u001b[0m\u001b[0mX_test\u001b[0m\u001b[0;34m,\u001b[0m \u001b[0my_test\u001b[0m\u001b[0;34m,\u001b[0m \u001b[0mverbose\u001b[0m\u001b[0;34m=\u001b[0m\u001b[0;36m0\u001b[0m\u001b[0;34m)\u001b[0m\u001b[0;34m\u001b[0m\u001b[0m\n\u001b[0m\u001b[1;32m      2\u001b[0m \u001b[0mprint\u001b[0m\u001b[0;34m(\u001b[0m\u001b[0;34m'Test loss:'\u001b[0m\u001b[0;34m,\u001b[0m \u001b[0mscore\u001b[0m\u001b[0;34m[\u001b[0m\u001b[0;36m0\u001b[0m\u001b[0;34m]\u001b[0m\u001b[0;34m)\u001b[0m\u001b[0;34m\u001b[0m\u001b[0m\n\u001b[1;32m      3\u001b[0m \u001b[0mprint\u001b[0m\u001b[0;34m(\u001b[0m\u001b[0;34m'Test accuracy:'\u001b[0m\u001b[0;34m,\u001b[0m \u001b[0mscore\u001b[0m\u001b[0;34m[\u001b[0m\u001b[0;36m1\u001b[0m\u001b[0;34m]\u001b[0m\u001b[0;34m)\u001b[0m\u001b[0;34m\u001b[0m\u001b[0m\n",
      "\u001b[0;32m~/anaconda3/envs/azggpu/lib/python3.5/site-packages/keras/engine/training.py\u001b[0m in \u001b[0;36mevaluate\u001b[0;34m(self, x, y, batch_size, verbose, sample_weight, steps)\u001b[0m\n\u001b[1;32m   1109\u001b[0m                                          \u001b[0mbatch_size\u001b[0m\u001b[0;34m=\u001b[0m\u001b[0mbatch_size\u001b[0m\u001b[0;34m,\u001b[0m\u001b[0;34m\u001b[0m\u001b[0m\n\u001b[1;32m   1110\u001b[0m                                          \u001b[0mverbose\u001b[0m\u001b[0;34m=\u001b[0m\u001b[0mverbose\u001b[0m\u001b[0;34m,\u001b[0m\u001b[0;34m\u001b[0m\u001b[0m\n\u001b[0;32m-> 1111\u001b[0;31m                                          steps=steps)\n\u001b[0m\u001b[1;32m   1112\u001b[0m \u001b[0;34m\u001b[0m\u001b[0m\n\u001b[1;32m   1113\u001b[0m     def predict(self, x,\n",
      "\u001b[0;32m~/anaconda3/envs/azggpu/lib/python3.5/site-packages/keras/engine/training_arrays.py\u001b[0m in \u001b[0;36mtest_loop\u001b[0;34m(model, f, ins, batch_size, verbose, steps)\u001b[0m\n\u001b[1;32m    390\u001b[0m                 \u001b[0mins_batch\u001b[0m\u001b[0;34m[\u001b[0m\u001b[0mi\u001b[0m\u001b[0;34m]\u001b[0m \u001b[0;34m=\u001b[0m \u001b[0mins_batch\u001b[0m\u001b[0;34m[\u001b[0m\u001b[0mi\u001b[0m\u001b[0;34m]\u001b[0m\u001b[0;34m.\u001b[0m\u001b[0mtoarray\u001b[0m\u001b[0;34m(\u001b[0m\u001b[0;34m)\u001b[0m\u001b[0;34m\u001b[0m\u001b[0m\n\u001b[1;32m    391\u001b[0m \u001b[0;34m\u001b[0m\u001b[0m\n\u001b[0;32m--> 392\u001b[0;31m             \u001b[0mbatch_outs\u001b[0m \u001b[0;34m=\u001b[0m \u001b[0mf\u001b[0m\u001b[0;34m(\u001b[0m\u001b[0mins_batch\u001b[0m\u001b[0;34m)\u001b[0m\u001b[0;34m\u001b[0m\u001b[0m\n\u001b[0m\u001b[1;32m    393\u001b[0m             \u001b[0;32mif\u001b[0m \u001b[0misinstance\u001b[0m\u001b[0;34m(\u001b[0m\u001b[0mbatch_outs\u001b[0m\u001b[0;34m,\u001b[0m \u001b[0mlist\u001b[0m\u001b[0;34m)\u001b[0m\u001b[0;34m:\u001b[0m\u001b[0;34m\u001b[0m\u001b[0m\n\u001b[1;32m    394\u001b[0m                 \u001b[0;32mif\u001b[0m \u001b[0mbatch_index\u001b[0m \u001b[0;34m==\u001b[0m \u001b[0;36m0\u001b[0m\u001b[0;34m:\u001b[0m\u001b[0;34m\u001b[0m\u001b[0m\n",
      "\u001b[0;32m~/anaconda3/envs/azggpu/lib/python3.5/site-packages/keras/backend/tensorflow_backend.py\u001b[0m in \u001b[0;36m__call__\u001b[0;34m(self, inputs)\u001b[0m\n\u001b[1;32m   2664\u001b[0m                 \u001b[0;32mreturn\u001b[0m \u001b[0mself\u001b[0m\u001b[0;34m.\u001b[0m\u001b[0m_legacy_call\u001b[0m\u001b[0;34m(\u001b[0m\u001b[0minputs\u001b[0m\u001b[0;34m)\u001b[0m\u001b[0;34m\u001b[0m\u001b[0m\n\u001b[1;32m   2665\u001b[0m \u001b[0;34m\u001b[0m\u001b[0m\n\u001b[0;32m-> 2666\u001b[0;31m             \u001b[0;32mreturn\u001b[0m \u001b[0mself\u001b[0m\u001b[0;34m.\u001b[0m\u001b[0m_call\u001b[0m\u001b[0;34m(\u001b[0m\u001b[0minputs\u001b[0m\u001b[0;34m)\u001b[0m\u001b[0;34m\u001b[0m\u001b[0m\n\u001b[0m\u001b[1;32m   2667\u001b[0m         \u001b[0;32melse\u001b[0m\u001b[0;34m:\u001b[0m\u001b[0;34m\u001b[0m\u001b[0m\n\u001b[1;32m   2668\u001b[0m             \u001b[0;32mif\u001b[0m \u001b[0mpy_any\u001b[0m\u001b[0;34m(\u001b[0m\u001b[0mis_tensor\u001b[0m\u001b[0;34m(\u001b[0m\u001b[0mx\u001b[0m\u001b[0;34m)\u001b[0m \u001b[0;32mfor\u001b[0m \u001b[0mx\u001b[0m \u001b[0;32min\u001b[0m \u001b[0minputs\u001b[0m\u001b[0;34m)\u001b[0m\u001b[0;34m:\u001b[0m\u001b[0;34m\u001b[0m\u001b[0m\n",
      "\u001b[0;32m~/anaconda3/envs/azggpu/lib/python3.5/site-packages/keras/backend/tensorflow_backend.py\u001b[0m in \u001b[0;36m_call\u001b[0;34m(self, inputs)\u001b[0m\n\u001b[1;32m   2634\u001b[0m                                 \u001b[0msymbol_vals\u001b[0m\u001b[0;34m,\u001b[0m\u001b[0;34m\u001b[0m\u001b[0m\n\u001b[1;32m   2635\u001b[0m                                 session)\n\u001b[0;32m-> 2636\u001b[0;31m         \u001b[0mfetched\u001b[0m \u001b[0;34m=\u001b[0m \u001b[0mself\u001b[0m\u001b[0;34m.\u001b[0m\u001b[0m_callable_fn\u001b[0m\u001b[0;34m(\u001b[0m\u001b[0;34m*\u001b[0m\u001b[0marray_vals\u001b[0m\u001b[0;34m)\u001b[0m\u001b[0;34m\u001b[0m\u001b[0m\n\u001b[0m\u001b[1;32m   2637\u001b[0m         \u001b[0;32mreturn\u001b[0m \u001b[0mfetched\u001b[0m\u001b[0;34m[\u001b[0m\u001b[0;34m:\u001b[0m\u001b[0mlen\u001b[0m\u001b[0;34m(\u001b[0m\u001b[0mself\u001b[0m\u001b[0;34m.\u001b[0m\u001b[0moutputs\u001b[0m\u001b[0;34m)\u001b[0m\u001b[0;34m]\u001b[0m\u001b[0;34m\u001b[0m\u001b[0m\n\u001b[1;32m   2638\u001b[0m \u001b[0;34m\u001b[0m\u001b[0m\n",
      "\u001b[0;32m~/anaconda3/envs/azggpu/lib/python3.5/site-packages/tensorflow/python/client/session.py\u001b[0m in \u001b[0;36m__call__\u001b[0;34m(self, *args, **kwargs)\u001b[0m\n\u001b[1;32m   1380\u001b[0m           ret = tf_session.TF_SessionRunCallable(\n\u001b[1;32m   1381\u001b[0m               \u001b[0mself\u001b[0m\u001b[0;34m.\u001b[0m\u001b[0m_session\u001b[0m\u001b[0;34m.\u001b[0m\u001b[0m_session\u001b[0m\u001b[0;34m,\u001b[0m \u001b[0mself\u001b[0m\u001b[0;34m.\u001b[0m\u001b[0m_handle\u001b[0m\u001b[0;34m,\u001b[0m \u001b[0margs\u001b[0m\u001b[0;34m,\u001b[0m \u001b[0mstatus\u001b[0m\u001b[0;34m,\u001b[0m\u001b[0;34m\u001b[0m\u001b[0m\n\u001b[0;32m-> 1382\u001b[0;31m               run_metadata_ptr)\n\u001b[0m\u001b[1;32m   1383\u001b[0m         \u001b[0;32mif\u001b[0m \u001b[0mrun_metadata\u001b[0m\u001b[0;34m:\u001b[0m\u001b[0;34m\u001b[0m\u001b[0m\n\u001b[1;32m   1384\u001b[0m           \u001b[0mproto_data\u001b[0m \u001b[0;34m=\u001b[0m \u001b[0mtf_session\u001b[0m\u001b[0;34m.\u001b[0m\u001b[0mTF_GetBuffer\u001b[0m\u001b[0;34m(\u001b[0m\u001b[0mrun_metadata_ptr\u001b[0m\u001b[0;34m)\u001b[0m\u001b[0;34m\u001b[0m\u001b[0m\n",
      "\u001b[0;31mKeyboardInterrupt\u001b[0m: "
     ]
    }
   ],
   "source": [
    "score = model.evaluate(X_test, y_test, verbose=0)\n",
    "print('Test loss:', score[0])\n",
    "print('Test accuracy:', score[1])"
   ]
  },
  {
   "cell_type": "code",
   "execution_count": null,
   "metadata": {},
   "outputs": [],
   "source": [
    "model.save_weights('4PpKk_3_weights.hdf5')"
   ]
  }
 ],
 "metadata": {
  "kernelspec": {
   "display_name": "Python [conda env:azggpu]",
   "language": "python",
   "name": "conda-env-azggpu-py"
  },
  "language_info": {
   "codemirror_mode": {
    "name": "ipython",
    "version": 3
   },
   "file_extension": ".py",
   "mimetype": "text/x-python",
   "name": "python",
   "nbconvert_exporter": "python",
   "pygments_lexer": "ipython3",
   "version": "3.5.6"
  }
 },
 "nbformat": 4,
 "nbformat_minor": 2
}
