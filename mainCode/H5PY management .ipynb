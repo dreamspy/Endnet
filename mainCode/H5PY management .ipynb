{
 "cells": [
  {
   "cell_type": "markdown",
   "metadata": {},
   "source": [
    "# h5view.py Loader"
   ]
  },
  {
   "cell_type": "code",
   "execution_count": 1,
   "metadata": {},
   "outputs": [
    {
     "name": "stdout",
     "output_type": "stream",
     "text": [
      "Usage\n",
      "    Open file handle:        f = h5py.File(fileName,'a')\n",
      "    Close file handle:       f.close\n",
      "    Load dataset:            dataset = loadDataSet(f)\n",
      "    Display this help:       help() \n",
      "\n",
      "Opening file: AllStates_intVec.hdf5\n",
      "Datasets:\n",
      "Nr: 0   Name: 3PKk            Size: (249984, 3)\n",
      "Nr: 1   Name: 3PKk-Wdl-Buffered Size: (249984, 1)\n",
      "Nr: 2   Name: 3PKk-Wdl-Seq    Size: (249984, 1)\n",
      "Nr: 3   Name: 4PpKk           Size: (15249024, 4)\n",
      "Nr: 4   Name: 4PpKk-Wdl       Size: (15249024, 1)\n",
      "Nr: 5   Name: 4PpKk-Wdl-Buffered Size: (15249024, 1)\n",
      "Nr: 6   Name: 4PpKk-Wdl-retry Size: (15249024, 1)\n",
      "Nr: 7   Name: 5PPpKk          Size: (457470720, 5)\n",
      "Nr: 8   Name: 5PPpKk-Wdl      Size: (457470720, 1)\n",
      "Nr: 9   Name: 5PPpKk-Wdl-Buffered Size: (457470720, 1)\n",
      "Nr: 10   Name: 6PPppKk         Size: (13495386240, 6)\n",
      "Nr: 11   Name: temp            Size: (249984, 1)\n",
      "Select dataset: -1\n",
      "Do you want to load dataset: temp? [y/n] n\n",
      "Select dataset: -1\n",
      "Do you want to load dataset: temp? [y/n] \n",
      "Select dataset: -1\n",
      "Do you want to load dataset: temp? [y/n] y\n",
      "Dataset loaded\n"
     ]
    }
   ],
   "source": [
    "# %load h5View.py\n",
    "import sys\n",
    "import h5py\n",
    "import time\n",
    "import os\n",
    "import numpy as np\n",
    "import signal\n",
    "\n",
    "def db(t,v):\n",
    "    if debug == True:\n",
    "        print(t,v)\n",
    "debug = False\n",
    "debug = True\n",
    "\n",
    "def Db(t,v):\n",
    "    if Debug == True:\n",
    "        print(t,v)\n",
    "Debug = False\n",
    "Debug = True\n",
    "\n",
    "def loadDset(fileName, dataSetName):\n",
    "    f = h5py.File(fileName, 'a')\n",
    "    return f[dataSetName]\n",
    "\n",
    "def loadDataSet(f):\n",
    "    ####################\n",
    "    #\n",
    "    #   Signal Handler\n",
    "    #\n",
    "    ####################\n",
    "    def exit_gracefully(signum, frame):\n",
    "        # restore the original signal handler as otherwise evil things will happen\n",
    "        # in raw_input when CTRL+C is pressed, and our signal handler is not re-entrant\n",
    "        signal.signal(signal.SIGINT, original_sigint)\n",
    "\n",
    "        try:\n",
    "            # if input(\"\\nReally quit? (y/n)> \").lower().startswith('y'):\n",
    "            #     print(\"Flushing data to disk\")\n",
    "            #     f.close()\n",
    "            #     sys.exit(1)\n",
    "            print(\"\\nFlushing data to disk\")\n",
    "            f.close()\n",
    "\n",
    "        except KeyboardInterrupt:\n",
    "            print(\"\\nOk ok, quitting\")\n",
    "            print(\"Flushing data to disk\")\n",
    "            f.close()\n",
    "            sys.exit(1)\n",
    "\n",
    "        # restore the exit gracefully handler here\n",
    "        signal.signal(signal.SIGINT, exit_gracefully)\n",
    "\n",
    "    # store the original SIGINT handler\n",
    "    original_sigint = signal.getsignal(signal.SIGINT)\n",
    "    signal.signal(signal.SIGINT, exit_gracefully)\n",
    "\n",
    "    ####################\n",
    "    #\n",
    "    #   Main\n",
    "    #\n",
    "    ####################\n",
    "\n",
    "    # f = h5py.File(fileName, 'a')\n",
    "    # print(\"File loadded, f = \" + fileName)\n",
    "    print(\"Datasets:\")\n",
    "    i = 0\n",
    "    datasetNames = [ds for ds in f]\n",
    "    for ds in datasetNames:\n",
    "        print('Nr:' , i , '  Name:', ds.ljust(15), \"Size:\", f[ds].shape )\n",
    "        i += 1\n",
    "    # print(f[0])\n",
    "    while True:\n",
    "        selectDS = int(input(\"Select dataset: \"))\n",
    "        action = input(str(\"Do you want to load dataset: \" + datasetNames[selectDS] + \"? [y/n] \"))\n",
    "        if action == 'y' or action == 'Y':\n",
    "            dataset = f[datasetNames[selectDS]]\n",
    "            print(\"Dataset loaded\")\n",
    "            break\n",
    "    return dataset\n",
    "\n",
    "def checkForTens(dataset):\n",
    "    d = 1000\n",
    "    l = len(dataset)\n",
    "    p = int(l/d)\n",
    "\n",
    "    for i in range(l):\n",
    "        if dataset[i]==10:\n",
    "            print('i: ', i, ' dataset[{}]'.format(i), dataset[i])\n",
    "        if i%p==0:\n",
    "            print(round(i/l,3))\n",
    "\n",
    "def help():\n",
    "\n",
    "    Db(\"Usage\" +\n",
    "       \"\\n    \" +\n",
    "       \"Open file handle:\".ljust(25) + \"f = h5py.File(fileName,'a')\" +\n",
    "       \"\\n    \" +\n",
    "       \"Close file handle:\".ljust(25) + \"f.close\" +\n",
    "       \"\\n    \" +\n",
    "       \"Load dataset:\".ljust(25) + \"dataset = loadDataSet(f)\" +\n",
    "       \"\\n    \" +\n",
    "       \"Display this help:\". ljust(25) + \"help()\"\n",
    "       ,'')\n",
    "\n",
    "if __name__ == '__main__':\n",
    "    ########################\n",
    "    #\n",
    "    #   Parameters\n",
    "    #\n",
    "    ########################\n",
    "\n",
    "    fileName = 'AllStates_intVec.hdf5'\n",
    "    dataSetName = \"36KPvKPP\"\n",
    "\n",
    "    help()\n",
    "\n",
    "    db(\"\\nOpening file:\", fileName)\n",
    "    f = h5py.File(fileName, 'a')\n",
    "    dataset = 0\n",
    "    dataset = loadDataSet(f)\n",
    "\n",
    "\n"
   ]
  },
  {
   "cell_type": "markdown",
   "metadata": {},
   "source": [
    "# Some random copy stuff"
   ]
  },
  {
   "cell_type": "code",
   "execution_count": 2,
   "metadata": {},
   "outputs": [],
   "source": [
    "# h5py.File(\"5PPpKk.hdf5\", 'w')"
   ]
  },
  {
   "cell_type": "code",
   "execution_count": 3,
   "metadata": {},
   "outputs": [
    {
     "name": "stdout",
     "output_type": "stream",
     "text": [
      "['3PKk', '3PKk_Wdl', '3PKk_Wdl_onlyLegal', '3PKk_onlyLegal']\n"
     ]
    }
   ],
   "source": [
    "# f.close()\n",
    "# fs.close()\n",
    "# fd.close()\n",
    "import sys\n",
    "with h5py.File(\"3PKk.hdf5\", 'a') as f:\n",
    "    fn = list(f)\n",
    "    print(fn)\n",
    "#     ds = f[fn[8]]\n",
    "#     l = len(ds)\n",
    "#     print(ds[400000:400100])\n",
    "#     from random import randint\n",
    "#     for i in range(1000):\n",
    "#         sys.stdout.write('i: ' + str(i) + '\\r')\n",
    "#         r = randint(0,l-1000)\n",
    "#         t = ds[r:r+10000] \n",
    "# #         print(len(t))\n",
    "#         for d in t:\n",
    "# #             print(d)\n",
    "#             if d[0] == 11:\n",
    "#                 print(d[0])\n",
    "                \n",
    "            "
   ]
  },
  {
   "cell_type": "code",
   "execution_count": 4,
   "metadata": {},
   "outputs": [
    {
     "name": "stdout",
     "output_type": "stream",
     "text": [
      "[]\n"
     ]
    }
   ],
   "source": [
    "with h5py.File('5PPpKk.hdf5', 'a') as fs:\n",
    "    fsn = list(fs)\n",
    "    print(fsn)\n",
    "#     x = [fs[n] for n in fsn]\n",
    "#     for i in x:print(i)\n",
    "#     for i in x:print(type(i))\n",
    "#     del fs[fsn[1]]\n",
    "#     del fs[fsn[2]]\n",
    "#     del fs[fsn[3]]\n",
    "#     a = x[0][:]\n",
    "#     b = x[3][:]\n",
    "#     print(type(a[0][0]))\n",
    "#     print(type(b[0][0]))\n",
    "#     print()\n",
    "#     a = x[1][:]\n",
    "#     b = x[2][:]\n",
    "#     print(type(a[0][0]))\n",
    "#     print(type(b[0][0]))\n",
    "    \n",
    "#     with h5py.File('5PPpKk2.hdf5', 'w') as fd:\n",
    "#         for i in range(len(fsn)):\n",
    "#             fs.copy(fsn[i],fd['/'])\n",
    "    "
   ]
  },
  {
   "cell_type": "code",
   "execution_count": null,
   "metadata": {},
   "outputs": [],
   "source": []
  },
  {
   "cell_type": "markdown",
   "metadata": {},
   "source": [
    "# Compression test"
   ]
  },
  {
   "cell_type": "markdown",
   "metadata": {},
   "source": [
    "## Results\n",
    "### Gzip the best\n",
    "\n",
    "    Gzip\n",
    "        compr 4\n",
    "        1.5Mb\n",
    "        6.6 sec\n",
    "\n",
    "        compr 9\n",
    "        1.3MB\n",
    "        7.8 sec\n",
    "\n",
    "    lzf\n",
    "        9MB\n",
    "        5.8 sec"
   ]
  },
  {
   "cell_type": "code",
   "execution_count": 5,
   "metadata": {},
   "outputs": [
    {
     "name": "stdout",
     "output_type": "stream",
     "text": [
      "Usage\n",
      "    Open file handle:        f = h5py.File(fileName,'a')\n",
      "    Close file handle:       f.close\n",
      "    Load dataset:            dataset = loadDataSet(f)\n",
      "    Display this help:       help() \n"
     ]
    }
   ],
   "source": [
    "help()"
   ]
  },
  {
   "cell_type": "code",
   "execution_count": 6,
   "metadata": {},
   "outputs": [],
   "source": [
    "import h5py\n",
    "# f.close()\n",
    "# f = h5py.File('temp.hdf5', 'a')\n",
    "f = h5py.File('4PpKk.hdf5', 'a')"
   ]
  },
  {
   "cell_type": "code",
   "execution_count": 7,
   "metadata": {},
   "outputs": [
    {
     "name": "stdout",
     "output_type": "stream",
     "text": [
      "4PpKk\n",
      "4PpKk_Wdl\n",
      "4PpKk_Wdl_onlyLegal\n",
      "4PpKk_onlyLegal\n",
      "4PpKk_onlyLegal_fullState\n"
     ]
    }
   ],
   "source": [
    "for i in f:print(i)"
   ]
  },
  {
   "cell_type": "code",
   "execution_count": 8,
   "metadata": {},
   "outputs": [],
   "source": [
    "import h5py\n",
    "name = 'gzip'\n",
    "dsn = list(f)[2]\n",
    "ds = f[dsn]\n",
    "l = len(ds)\n",
    "# ft.close()\n",
    "x = ds[:l//10]\n"
   ]
  },
  {
   "cell_type": "code",
   "execution_count": 9,
   "metadata": {},
   "outputs": [
    {
     "name": "stdout",
     "output_type": "stream",
     "text": [
      "0.0049839019775390625\n"
     ]
    }
   ],
   "source": [
    "import time\n",
    "t = time.time()\n",
    "name = 'lzf'\n",
    "ft = h5py.File(str('comprTest_' + name), 'a')\n",
    "ft.create_dataset(name, data=x, compression = name)\n",
    "print(time.time() - t)\n"
   ]
  },
  {
   "cell_type": "code",
   "execution_count": 12,
   "metadata": {},
   "outputs": [
    {
     "name": "stdout",
     "output_type": "stream",
     "text": [
      "['5PPpKk']\n"
     ]
    }
   ],
   "source": [
    "with h5py.File('5PPpKk.hdf5', 'r') as f:\n",
    "    fn = list(f)\n",
    "    print(fn)\n",
    "#     with h5py.File('5PPpKk.hdf5', 'w') as fd:\n",
    "#         f.copy(fn[7], fd['/'])"
   ]
  },
  {
   "cell_type": "code",
   "execution_count": null,
   "metadata": {},
   "outputs": [],
   "source": []
  }
 ],
 "metadata": {
  "kernelspec": {
   "display_name": "Python 3",
   "language": "python",
   "name": "python3"
  },
  "language_info": {
   "codemirror_mode": {
    "name": "ipython",
    "version": 3
   },
   "file_extension": ".py",
   "mimetype": "text/x-python",
   "name": "python",
   "nbconvert_exporter": "python",
   "pygments_lexer": "ipython3",
   "version": "3.6.8"
  }
 },
 "nbformat": 4,
 "nbformat_minor": 2
}
